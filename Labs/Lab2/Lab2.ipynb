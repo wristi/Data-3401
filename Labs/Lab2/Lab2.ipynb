{
 "cells": [
  {
   "cell_type": "markdown",
   "id": "e4adac8d",
   "metadata": {},
   "source": [
    "# Problem 1:"
   ]
  },
  {
   "cell_type": "code",
   "execution_count": 3,
   "id": "4c811539",
   "metadata": {},
   "outputs": [
    {
     "data": {
      "text/plain": [
       "'yrevA relyT'"
      ]
     },
     "execution_count": 3,
     "metadata": {},
     "output_type": "execute_result"
    }
   ],
   "source": [
    "\"Tyler Avery\"[-1::-1]"
   ]
  },
  {
   "cell_type": "markdown",
   "id": "3b60a29c",
   "metadata": {},
   "source": [
    "# Problem 2: "
   ]
  },
  {
   "cell_type": "code",
   "execution_count": 2,
   "id": "d8fdcfe2",
   "metadata": {},
   "outputs": [
    {
     "name": "stdout",
     "output_type": "stream",
     "text": [
      "My name is Tyler\n",
      "I am a Computer Science Major------------------------\n",
      " This is my Python string\n"
     ]
    }
   ],
   "source": [
    "print(\"My name is Tyler\\nI am a Computer Science Major\\n------------------------\\n This is my Python string\")"
   ]
  },
  {
   "cell_type": "markdown",
   "id": "0c7e8f10",
   "metadata": {},
   "source": [
    "# Problem 3:"
   ]
  },
  {
   "cell_type": "code",
   "execution_count": 4,
   "id": "79599156",
   "metadata": {},
   "outputs": [
    {
     "data": {
      "text/plain": [
       "0.5"
      ]
     },
     "execution_count": 4,
     "metadata": {},
     "output_type": "execute_result"
    }
   ],
   "source": [
    "1/2 #.5, Division uses floats "
   ]
  },
  {
   "cell_type": "code",
   "execution_count": 3,
   "id": "cef6520c",
   "metadata": {},
   "outputs": [
    {
     "data": {
      "text/plain": [
       "0"
      ]
     },
     "execution_count": 3,
     "metadata": {},
     "output_type": "execute_result"
    }
   ],
   "source": [
    "int(1/2) #0, This gets turned into integer division, or %. This is similar to binary, so the answer is 0 if it isn't a multiple of 2."
   ]
  },
  {
   "cell_type": "code",
   "execution_count": 5,
   "id": "deaae6ee",
   "metadata": {},
   "outputs": [
    {
     "data": {
      "text/plain": [
       "0"
      ]
     },
     "execution_count": 5,
     "metadata": {},
     "output_type": "execute_result"
    }
   ],
   "source": [
    "int(9/10) #0, This is also integer division and the remainder is zero. "
   ]
  },
  {
   "cell_type": "code",
   "execution_count": 8,
   "id": "49c83e3e",
   "metadata": {},
   "outputs": [
    {
     "data": {
      "text/plain": [
       "-25"
      ]
     },
     "execution_count": 8,
     "metadata": {},
     "output_type": "execute_result"
    }
   ],
   "source": [
    "-5**2 #-25, The five is not contained properly and will be negative because of PEMDAS"
   ]
  },
  {
   "cell_type": "code",
   "execution_count": 9,
   "id": "eccd3a43",
   "metadata": {},
   "outputs": [
    {
     "data": {
      "text/plain": [
       "25"
      ]
     },
     "execution_count": 9,
     "metadata": {},
     "output_type": "execute_result"
    }
   ],
   "source": [
    "(-5) ** 2 #25, since the five has parenthesis and is spaced properly, it is not negative."
   ]
  },
  {
   "cell_type": "code",
   "execution_count": 10,
   "id": "65cc32b5",
   "metadata": {},
   "outputs": [
    {
     "data": {
      "text/plain": [
       "7.0"
      ]
     },
     "execution_count": 10,
     "metadata": {},
     "output_type": "execute_result"
    }
   ],
   "source": [
    "10-6/2 #7.0 6/2 division first and then subtraction. the .0 is there because division prints a float data type"
   ]
  },
  {
   "cell_type": "code",
   "execution_count": 11,
   "id": "b6c8f18c",
   "metadata": {},
   "outputs": [
    {
     "data": {
      "text/plain": [
       "30.0"
      ]
     },
     "execution_count": 11,
     "metadata": {},
     "output_type": "execute_result"
    }
   ],
   "source": [
    "5*4/2*3 #30, 5*4 = 20: 20/2 = 10: 10*3= 30"
   ]
  },
  {
   "cell_type": "code",
   "execution_count": 12,
   "id": "2b4786e3",
   "metadata": {},
   "outputs": [
    {
     "data": {
      "text/plain": [
       "2.5"
      ]
     },
     "execution_count": 12,
     "metadata": {},
     "output_type": "execute_result"
    }
   ],
   "source": [
    "5*4/2**3 #2.5 it turns into 20/(2^3)which is 2.5"
   ]
  },
  {
   "cell_type": "code",
   "execution_count": 13,
   "id": "2c9dd86b",
   "metadata": {},
   "outputs": [
    {
     "data": {
      "text/plain": [
       "8"
      ]
     },
     "execution_count": 13,
     "metadata": {},
     "output_type": "execute_result"
    }
   ],
   "source": [
    "2^10 # this is an XOR, which pertains to bitshifting, this is more like 2**3 which is 8"
   ]
  },
  {
   "cell_type": "markdown",
   "id": "97f17acc",
   "metadata": {},
   "source": [
    "# Problem 4"
   ]
  },
  {
   "cell_type": "code",
   "execution_count": 21,
   "id": "a645d551",
   "metadata": {},
   "outputs": [
    {
     "name": "stdout",
     "output_type": "stream",
     "text": [
      "Tyler AveryTyler AveryTyler AveryTyler AveryTyler AveryTyler AveryTyler AveryTyler AveryTyler AveryTyler Avery\n"
     ]
    }
   ],
   "source": [
    "name = \"Tyler Avery\"\n",
    "print(name*10)"
   ]
  },
  {
   "cell_type": "markdown",
   "id": "d8c4b6db",
   "metadata": {},
   "source": [
    "#  Problem 5"
   ]
  },
  {
   "cell_type": "code",
   "execution_count": 13,
   "id": "9922b899",
   "metadata": {},
   "outputs": [],
   "source": [
    "x = [1,2,3,4,'a','b','c','d']\n"
   ]
  },
  {
   "cell_type": "code",
   "execution_count": 15,
   "id": "eeba457c",
   "metadata": {},
   "outputs": [
    {
     "data": {
      "text/plain": [
       "[2, 3, 4, 'a', 'b', 'c', 'd']"
      ]
     },
     "execution_count": 15,
     "metadata": {},
     "output_type": "execute_result"
    }
   ],
   "source": [
    "x[1::1]#pt 1"
   ]
  },
  {
   "cell_type": "code",
   "execution_count": 20,
   "id": "a7483c77",
   "metadata": {},
   "outputs": [
    {
     "data": {
      "text/plain": [
       "['d', 'a', 2]"
      ]
     },
     "execution_count": 20,
     "metadata": {},
     "output_type": "execute_result"
    }
   ],
   "source": [
    "x[-1::-3] #pt2"
   ]
  },
  {
   "cell_type": "code",
   "execution_count": 11,
   "id": "ea86cb0e",
   "metadata": {},
   "outputs": [
    {
     "data": {
      "text/plain": [
       "[4, 'a', 'b', 'c']"
      ]
     },
     "execution_count": 11,
     "metadata": {},
     "output_type": "execute_result"
    }
   ],
   "source": [
    "x[3:7] #pt3"
   ]
  },
  {
   "cell_type": "code",
   "execution_count": null,
   "id": "8b48fc42",
   "metadata": {},
   "outputs": [],
   "source": []
  }
 ],
 "metadata": {
  "kernelspec": {
   "display_name": "Python 3 (ipykernel)",
   "language": "python",
   "name": "python3"
  },
  "language_info": {
   "codemirror_mode": {
    "name": "ipython",
    "version": 3
   },
   "file_extension": ".py",
   "mimetype": "text/x-python",
   "name": "python",
   "nbconvert_exporter": "python",
   "pygments_lexer": "ipython3",
   "version": "3.10.6"
  }
 },
 "nbformat": 4,
 "nbformat_minor": 5
}
