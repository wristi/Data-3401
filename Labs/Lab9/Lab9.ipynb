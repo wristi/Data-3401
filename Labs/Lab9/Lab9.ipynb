{
 "cells": [
  {
   "cell_type": "markdown",
   "id": "fe24737b",
   "metadata": {},
   "source": [
    "# Exercise 1\n",
    "1. Download the file Shakespeare.txt from this folder of the course repo into your Lab9 folder.\n",
    "\n",
    "1. Open the file in read mode, and print the file one line at a time in your notebook (get rid of any extra line breaks if they appear)\n",
    "\n",
    "1. Write a function that takes a single character string input argument that counts the number of times that character appears in the text file (that is, count_char(char) should return the number of times char appears in the file, where char could be a, b, c, ...)\n",
    "\n",
    "1. Using your function from the previous part, count the number of times a, e, ', and ' ' (the space character) appear in the document. Display the counts nicely with print statements."
   ]
  },
  {
   "cell_type": "code",
   "execution_count": 108,
   "id": "f9037276",
   "metadata": {},
   "outputs": [
    {
     "name": "stdout",
     "output_type": "stream",
     "text": [
      "So is it not with me as with that Muse\n",
      " Stirr'd by a painted beauty to his verse,\n",
      " Who heaven itself for ornament doth use\n",
      " And every fair with his fair doth rehearse\n",
      " Making a couplement of proud compare,\n",
      " With sun and moon, with earth and sea's rich gems,\n",
      " With April's first-born flowers, and all things rare\n",
      " That heaven's air in this huge rondure hems.\n",
      " O' let me, true in love, but truly write,\n",
      " And then believe me, my love is as fair\n",
      " As any mother's child, though not so bright\n",
      " As those gold candles fix'd in heaven's air:\n",
      " Let them say more than like of hearsay well;\n",
      " I will not praise that purpose not to sell.\n",
      " "
     ]
    }
   ],
   "source": [
    "my_file = open('Shakespeare.txt','r')\n",
    "\n",
    "def getFileLines(my_file):\n",
    "    f_line = my_file.readlines()\n",
    "    flen = len(f_line)\n",
    "    for line in range(flen):\n",
    "        print(f_line[line], end=\" \")\n",
    "    return flen\n",
    "\n",
    "getFileLines(my_file)        \n",
    "my_file.close()\n"
   ]
  },
  {
   "cell_type": "code",
   "execution_count": 118,
   "id": "74c80b76",
   "metadata": {},
   "outputs": [
    {
     "name": "stdout",
     "output_type": "stream",
     "text": [
      "Please enter a single characterd\n",
      "Your letter appears 15 amount of times\n",
      "15\n"
     ]
    }
   ],
   "source": [
    "\n",
    "\n",
    "def count_char(char):\n",
    "    my_file = open('Shakespeare.txt','r')\n",
    "    f_line = my_file.read()\n",
    "    \n",
    "    counter = 0\n",
    "    for line in f_line:\n",
    "        if (line == char):\n",
    "            counter += 1\n",
    "    return counter\n",
    "charr = str(input(\"Please enter a single character\"))\n",
    "\n",
    "print('Your letter appears {} amount of times'.format(count_char(charr)))\n",
    "print(count_char(charr))\n",
    "\n",
    "my_file.close()"
   ]
  },
  {
   "cell_type": "code",
   "execution_count": null,
   "id": "4b6dd9f5",
   "metadata": {},
   "outputs": [],
   "source": []
  },
  {
   "cell_type": "code",
   "execution_count": null,
   "id": "df0a1c73",
   "metadata": {},
   "outputs": [],
   "source": []
  },
  {
   "cell_type": "markdown",
   "id": "4b431f0f",
   "metadata": {},
   "source": [
    "# Exercise 2\n",
    "1. Write a function that takes in three arguments string, char, replacement, that replaces every instance of char in string with replacement. For example, replace('Hello','l','!') would return He!!o. Note, you may use your function from the midterm as a starting point.\n",
    "\n",
    "1. Capture the text from Shakespeare.txt, and replace all of the character 'a' with '#'\n",
    "\n",
    "1. Write the new text to a new file called Shakespeare_modified.txt"
   ]
  },
  {
   "cell_type": "code",
   "execution_count": 139,
   "id": "ed88b7ab",
   "metadata": {},
   "outputs": [
    {
     "name": "stdout",
     "output_type": "stream",
     "text": [
      " So is it not with me @s with th@t Muse\n",
      "Stirr'd by @ p@inted be@uty to his verse,\n",
      "Who he@ven itself for orn@ment doth use\n",
      "And every f@ir with his f@ir doth rehe@rse\n",
      "M@king @ couplement of proud comp@re,\n",
      "With sun @nd moon, with e@rth @nd se@'s rich gems,\n",
      "With April's first-born flowers, @nd @ll things r@re\n",
      "Th@t he@ven's @ir in this huge rondure hems.\n",
      "O' let me, true in love, but truly write,\n",
      "And then believe me, my love is @s f@ir\n",
      "As @ny mother's child, though not so bright\n",
      "As those gold c@ndles fix'd in he@ven's @ir:\n",
      "Let them s@y more th@n like of he@rs@y well;\n",
      "I will not pr@ise th@t purpose not to sell.\n",
      " "
     ]
    }
   ],
   "source": [
    "file = open('Shakespeare.txt','r+')\n",
    "string = file.read()\n",
    "\n",
    "def StrReplace(string,char,replace):\n",
    "    \n",
    "    string2 = ' '\n",
    "    \n",
    "    for i in string:\n",
    "        if i == char:\n",
    "            i = replace\n",
    "        string2 += i\n",
    "    return string2\n",
    "\n",
    "\n",
    "print(StrReplace(string,'a','@'), end=\" \")\n",
    "\n"
   ]
  },
  {
   "cell_type": "code",
   "execution_count": null,
   "id": "9a634ac9",
   "metadata": {},
   "outputs": [],
   "source": []
  },
  {
   "cell_type": "code",
   "execution_count": null,
   "id": "e8bb051d",
   "metadata": {},
   "outputs": [],
   "source": []
  },
  {
   "cell_type": "markdown",
   "id": "c69a2e4c",
   "metadata": {},
   "source": [
    "# Exercise 3\n",
    "1. Write a function that takes an integer input argument n, opens the Shakespeare.txt file, and creates a list of all words in the file whose length is less than or equal to n.\n",
    "\n",
    "\n",
    "1. Test your function with n=2, 4, 6. For each n, you should print out the full list."
   ]
  },
  {
   "cell_type": "code",
   "execution_count": 2,
   "id": "df03bff1",
   "metadata": {},
   "outputs": [
    {
     "name": "stdout",
     "output_type": "stream",
     "text": [
      "['So', 'is', 'it', 'me', 'as', 'by', 'a', 'to', 'a', 'of', 'in', 'in', 'my', 'is', 'as', 'so', 'in', 'of', 'to'] "
     ]
    }
   ],
   "source": [
    "def wordfilter(n):\n",
    "    f_input = open(\"Shakespeare.txt\",\"r\")\n",
    "    fp = f_input.read().split(' ')\n",
    "    otherlist = []\n",
    "\n",
    "    for i in range(len(fp)):\n",
    "        if len(fp[i])<= n: otherlist.append(fp[i])\n",
    "    return otherlist\n",
    "\n",
    "print(wordfilter(2),end=\" \")\n"
   ]
  },
  {
   "cell_type": "code",
   "execution_count": 4,
   "id": "195be0ad",
   "metadata": {},
   "outputs": [
    {
     "name": "stdout",
     "output_type": "stream",
     "text": [
      "['So', 'is', 'it', 'not', 'with', 'me', 'as', 'with', 'that', 'by', 'a', 'to', 'his', 'for', 'doth', 'fair', 'with', 'his', 'fair', 'doth', 'a', 'of', 'sun', 'and', 'with', 'and', 'rich', 'and', 'all', 'air', 'in', 'this', 'huge', 'let', 'me,', 'true', 'in', 'but', 'then', 'me,', 'my', 'love', 'is', 'as', 'any', 'not', 'so', 'gold', 'in', 'them', 'say', 'more', 'than', 'like', 'of', 'will', 'not', 'that', 'not', 'to'] "
     ]
    }
   ],
   "source": [
    "print(wordfilter(4),end=\" \")"
   ]
  },
  {
   "cell_type": "code",
   "execution_count": 12,
   "id": "72b00ec5",
   "metadata": {},
   "outputs": [
    {
     "name": "stdout",
     "output_type": "stream",
     "text": [
      "['So', 'is', 'it', 'not', 'with', 'me', 'as', 'with', 'that', 'by', 'a', 'beauty', 'to', 'his', 'heaven', 'itself', 'for', 'doth', 'every', 'fair', 'with', 'his', 'fair', 'doth', 'a', 'of', 'proud', 'sun', 'and', 'moon,', 'with', 'earth', 'and', \"sea's\", 'rich', 'and', 'all', 'things', 'air', 'in', 'this', 'huge', 'let', 'me,', 'true', 'in', 'love,', 'but', 'truly', 'then', 'me,', 'my', 'love', 'is', 'as', 'any', 'child,', 'though', 'not', 'so', 'those', 'gold', \"fix'd\", 'in', 'them', 'say', 'more', 'than', 'like', 'of', 'will', 'not', 'praise', 'that', 'not', 'to', 'sell.\\n'] "
     ]
    }
   ],
   "source": [
    "print(wordfilter(6),end=\" \")"
   ]
  },
  {
   "cell_type": "code",
   "execution_count": null,
   "id": "c150289d",
   "metadata": {},
   "outputs": [],
   "source": []
  }
 ],
 "metadata": {
  "kernelspec": {
   "display_name": "Python 3 (ipykernel)",
   "language": "python",
   "name": "python3"
  },
  "language_info": {
   "codemirror_mode": {
    "name": "ipython",
    "version": 3
   },
   "file_extension": ".py",
   "mimetype": "text/x-python",
   "name": "python",
   "nbconvert_exporter": "python",
   "pygments_lexer": "ipython3",
   "version": "3.10.6"
  }
 },
 "nbformat": 4,
 "nbformat_minor": 5
}
