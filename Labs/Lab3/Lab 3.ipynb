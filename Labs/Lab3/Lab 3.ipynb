{
 "cells": [
  {
   "cell_type": "markdown",
   "id": "f2d12545",
   "metadata": {},
   "source": [
    "# Problem 1"
   ]
  },
  {
   "cell_type": "code",
   "execution_count": 33,
   "id": "e9cac531",
   "metadata": {},
   "outputs": [
    {
     "name": "stdout",
     "output_type": "stream",
     "text": [
      "Please Enter a String: \n",
      "MICAH\n",
      "False\n"
     ]
    }
   ],
   "source": [
    "my_string = input(\"Please Enter a String: \\n\")\n",
    "\n",
    "def Palindrome(string):\n",
    "    string = str(string.lower())\n",
    "    a = (string == string[::-1])\n",
    "    return a\n",
    "\n",
    "print(Palindrome(my_string))\n"
   ]
  },
  {
   "cell_type": "code",
   "execution_count": 34,
   "id": "a16300f1",
   "metadata": {},
   "outputs": [
    {
     "name": "stdout",
     "output_type": "stream",
     "text": [
      "False\n"
     ]
    }
   ],
   "source": [
    "Names = 'Barry'\n",
    "print(Palindrome(Names))\n",
    "            \n",
    "        \n",
    "    \n",
    "    \n",
    "\n",
    "    "
   ]
  },
  {
   "cell_type": "code",
   "execution_count": 36,
   "id": "ba3913d0",
   "metadata": {},
   "outputs": [
    {
     "name": "stdout",
     "output_type": "stream",
     "text": [
      "True\n"
     ]
    }
   ],
   "source": [
    " print(Palindrome('hannaH'))"
   ]
  },
  {
   "cell_type": "code",
   "execution_count": 38,
   "id": "0daceea7",
   "metadata": {},
   "outputs": [
    {
     "name": "stdout",
     "output_type": "stream",
     "text": [
      "True\n"
     ]
    }
   ],
   "source": [
    " print(Palindrome('Otto'))"
   ]
  },
  {
   "cell_type": "markdown",
   "id": "7e3b97b0",
   "metadata": {},
   "source": [
    "# Problem 2 \n",
    "Write a function/script that takes an integer input between 1 and 10. If the input is 4, 5, or 6, then display a message 'Congratulations, you win the prize!'. If the input is less than 4 or greater than 6, then display a mesage 'Sorry, try again.' If the input is less than 1, greater than 10, or not an integer, display a message 'Invalid input, please input an integer between 1 and 10'."
   ]
  },
  {
   "cell_type": "code",
   "execution_count": 59,
   "id": "7352307c",
   "metadata": {},
   "outputs": [
    {
     "name": "stdout",
     "output_type": "stream",
     "text": [
      "Please input an integer between 1-10:\n",
      "11\n",
      "Invalid input\n"
     ]
    }
   ],
   "source": [
    "def IntInput():\n",
    "    x = int(input(\"Please input an integer between 1-10:\\n\"))\n",
    "    if (x==4) or (x==5) or (x==6):\n",
    "        print(\"Good job\")\n",
    "    elif((num < 4) and (num > 1)) and ((num > 6) and (num < 10)):\n",
    "        print(\"Try again\")\n",
    "    else:\n",
    "        print(\"Invalid input\")\n",
    "        \n",
    "IntInput()"
   ]
  },
  {
   "cell_type": "code",
   "execution_count": null,
   "id": "6491842d",
   "metadata": {},
   "outputs": [],
   "source": []
  },
  {
   "cell_type": "markdown",
   "id": "4b709402",
   "metadata": {},
   "source": [
    "# Problem 3"
   ]
  },
  {
   "cell_type": "code",
   "execution_count": 6,
   "id": "5f7bfd90",
   "metadata": {},
   "outputs": [],
   "source": [
    "def Even(x):\n",
    "    if x%2 == 0:\n",
    "        return True\n",
    "    else:\n",
    "        return False"
   ]
  },
  {
   "cell_type": "code",
   "execution_count": 3,
   "id": "53e9eb63",
   "metadata": {},
   "outputs": [],
   "source": [
    "def Odd(x):\n",
    "    if x%2 == 1:\n",
    "        return True\n",
    "    else:\n",
    "        return False"
   ]
  },
  {
   "cell_type": "code",
   "execution_count": 5,
   "id": "82e706fe",
   "metadata": {},
   "outputs": [
    {
     "data": {
      "text/plain": [
       "False"
      ]
     },
     "execution_count": 5,
     "metadata": {},
     "output_type": "execute_result"
    }
   ],
   "source": [
    "\n",
    "Odd(40)"
   ]
  },
  {
   "cell_type": "code",
   "execution_count": 7,
   "id": "0509289a",
   "metadata": {},
   "outputs": [
    {
     "data": {
      "text/plain": [
       "True"
      ]
     },
     "execution_count": 7,
     "metadata": {},
     "output_type": "execute_result"
    }
   ],
   "source": [
    "Odd(1)"
   ]
  },
  {
   "cell_type": "code",
   "execution_count": 8,
   "id": "a1d27c7f",
   "metadata": {},
   "outputs": [
    {
     "data": {
      "text/plain": [
       "False"
      ]
     },
     "execution_count": 8,
     "metadata": {},
     "output_type": "execute_result"
    }
   ],
   "source": [
    "Even(55)"
   ]
  },
  {
   "cell_type": "code",
   "execution_count": 9,
   "id": "2669cb89",
   "metadata": {},
   "outputs": [
    {
     "data": {
      "text/plain": [
       "True"
      ]
     },
     "execution_count": 9,
     "metadata": {},
     "output_type": "execute_result"
    }
   ],
   "source": [
    "Even(20)"
   ]
  },
  {
   "cell_type": "markdown",
   "id": "30670229",
   "metadata": {},
   "source": [
    "# Problem 4\n",
    "Write a function/script that takes in a list of numbers, and outputs the maximum number in the list."
   ]
  },
  {
   "cell_type": "code",
   "execution_count": 6,
   "id": "74b03465",
   "metadata": {},
   "outputs": [
    {
     "name": "stdout",
     "output_type": "stream",
     "text": [
      "Enter number of elements in list: 3\n",
      "Enter elements: 1\n",
      "Enter elements: 2\n",
      "Enter elements: 3\n",
      "Largest element is: 3\n"
     ]
    }
   ],
   "source": [
    "maxlst = []\n",
    "\n",
    "n=int(input(\"Enter number of elements in list: \"))\n",
    "\n",
    "for i in range(1, n+1):\n",
    "    elm = int(input(\"Enter elements: \"))\n",
    "    maxlst.append(elm)\n",
    "    \n",
    "print(\"Largest element is:\", max(maxlst))"
   ]
  },
  {
   "cell_type": "code",
   "execution_count": null,
   "id": "061ea958",
   "metadata": {},
   "outputs": [],
   "source": []
  },
  {
   "cell_type": "markdown",
   "id": "52cd6ee0",
   "metadata": {},
   "source": [
    "# Problem 5\n",
    "Write a function/script that takes a list of numbers as input and returns a list of the subset of elements that are less that 10. Test your solution."
   ]
  },
  {
   "cell_type": "code",
   "execution_count": 79,
   "id": "f2771431",
   "metadata": {},
   "outputs": [],
   "source": [
    "x_lst = [14,15,16,9,6]\n",
    "def numlst(x):\n",
    "    retlst = []\n",
    "    for i in x:\n",
    "        if i < 10:\n",
    "            retlst.append(i)\n",
    "    return retlst"
   ]
  },
  {
   "cell_type": "code",
   "execution_count": 75,
   "id": "b66733b1",
   "metadata": {},
   "outputs": [
    {
     "data": {
      "text/plain": [
       "[9, 6]"
      ]
     },
     "execution_count": 75,
     "metadata": {},
     "output_type": "execute_result"
    }
   ],
   "source": [
    "numlst(x_lst)"
   ]
  },
  {
   "cell_type": "markdown",
   "id": "68a93488",
   "metadata": {},
   "source": [
    "# Problem 6\n",
    "Write a function/script that takes a number x_max as input and returns a function that performs the same task as Problem 5, but for x_max instead of 10.\n",
    "\n"
   ]
  },
  {
   "cell_type": "code",
   "execution_count": 80,
   "id": "63b82336",
   "metadata": {},
   "outputs": [],
   "source": [
    "x_lst = [14,15,16,9,6,32,42]\n",
    "def numlst2(x,x_max):\n",
    "    retlst = []\n",
    "    for i in x:\n",
    "        if i < x_max:\n",
    "            retlst.append(i)\n",
    "    return retlst"
   ]
  },
  {
   "cell_type": "code",
   "execution_count": 81,
   "id": "5b74af33",
   "metadata": {},
   "outputs": [
    {
     "data": {
      "text/plain": [
       "[14, 15, 16, 9, 6, 32]"
      ]
     },
     "execution_count": 81,
     "metadata": {},
     "output_type": "execute_result"
    }
   ],
   "source": [
    "numlst2(x_lst, 40)"
   ]
  },
  {
   "cell_type": "markdown",
   "id": "a5d67e6e",
   "metadata": {},
   "source": [
    "# Problem 7\n",
    "Write a function/script that takes an integer and returns all its divisors (for example, the divisors of 18 are 1, 2, 3, 6, 9, and 18)"
   ]
  },
  {
   "cell_type": "code",
   "execution_count": 93,
   "id": "a2b914bf",
   "metadata": {},
   "outputs": [],
   "source": [
    "def divisors(n):\n",
    "    #returns list of all integer divisors of x\n",
    "    div_list = []\n",
    "    for i in range(1,n+1):\n",
    "        if n%i == 0:\n",
    "            div_list.append(i)\n",
    "    return div_list\n",
    "    \n",
    "\n",
    "        "
   ]
  },
  {
   "cell_type": "code",
   "execution_count": 94,
   "id": "18f071a0",
   "metadata": {},
   "outputs": [
    {
     "data": {
      "text/plain": [
       "[1, 2, 4, 5, 10, 20]"
      ]
     },
     "execution_count": 94,
     "metadata": {},
     "output_type": "execute_result"
    }
   ],
   "source": [
    "divisors(20)"
   ]
  },
  {
   "cell_type": "markdown",
   "id": "82887679",
   "metadata": {},
   "source": [
    "# Problem 8\n",
    "\n"
   ]
  },
  {
   "cell_type": "code",
   "execution_count": 147,
   "id": "708be92d",
   "metadata": {},
   "outputs": [],
   "source": []
  },
  {
   "cell_type": "code",
   "execution_count": 9,
   "id": "b49e9ddf",
   "metadata": {},
   "outputs": [
    {
     "name": "stdout",
     "output_type": "stream",
     "text": [
      "16\n"
     ]
    }
   ],
   "source": [
    "def fct(n):\n",
    "    if n==1 or n==2:\n",
    "        return 1\n",
    "    else:\n",
    "        for(fct(n-1))-(fct(n-2))\n",
    "\n",
    "f=fct(5)\n",
    "print(f)"
   ]
  },
  {
   "cell_type": "markdown",
   "id": "e9b022a0",
   "metadata": {},
   "source": [
    "# Problem 9\n",
    "Write a Rock-Paper-Scissors game function/script, that takes 2 strings, the inputs of player 1 and player 2, and output 1 or 2 corresponding to which player wins, or 0 if draw. (You may find the input command useful: a = input(\"Player 1 move\"))\n",
    "\n",
    "Implement a Rock-Paper-Scissors game by soliciting input from 2 players, testing with this function.\n",
    "\n",
    "Remember the rules:\n",
    "\n",
    "Rock beats scissors\n",
    "Scissors beats paper\n",
    "Paper beats rock"
   ]
  },
  {
   "cell_type": "code",
   "execution_count": 179,
   "id": "f3e2910a",
   "metadata": {},
   "outputs": [
    {
     "name": "stdout",
     "output_type": "stream",
     "text": [
      "Player 1 Move:\n",
      "scissors\n",
      "Player 2 Move:\n",
      "rock\n"
     ]
    }
   ],
   "source": [
    "a = input(\"Player 1 Move:\\n\").lower()\n",
    "b = input(\"Player 2 Move:\\n\").lower()\n",
    "\n",
    "\n",
    "def RPS(a,b):\n",
    "    if a == b:\n",
    "        print(\"Both players picked \"+a+\" It's a draw.\")\n",
    "    elif (a == 'rock') and (b =='scissors'):\n",
    "        print(\"Player 1 Wins\")\n",
    "    elif(a == 'rock') and (b == 'paper'):\n",
    "        print(\"Player 2 Wins\")\n",
    "    elif(a=='paper') and (b=='rock'):\n",
    "        print(\"Player 1 Wins\")\n",
    "    elif(a=='paper') and (b=='scissors'):\n",
    "        print(\"Player 2 Wins\")\n",
    "    elif(a=='scissors') and (b=='paper'):\n",
    "        print(\"Player 1 Wins\")\n",
    "    elif(a=='scissors') and (b=='rock'):\n",
    "        print(\"Player 2 Wins\")\n",
    "    "
   ]
  },
  {
   "cell_type": "code",
   "execution_count": 180,
   "id": "e1b13d90",
   "metadata": {},
   "outputs": [
    {
     "name": "stdout",
     "output_type": "stream",
     "text": [
      "Player 2 Wins\n"
     ]
    }
   ],
   "source": [
    "RPS(a,b)\n"
   ]
  },
  {
   "cell_type": "code",
   "execution_count": null,
   "id": "36b52e06",
   "metadata": {},
   "outputs": [],
   "source": []
  },
  {
   "cell_type": "code",
   "execution_count": null,
   "id": "069a9f88",
   "metadata": {},
   "outputs": [],
   "source": []
  }
 ],
 "metadata": {
  "kernelspec": {
   "display_name": "Python 3 (ipykernel)",
   "language": "python",
   "name": "python3"
  },
  "language_info": {
   "codemirror_mode": {
    "name": "ipython",
    "version": 3
   },
   "file_extension": ".py",
   "mimetype": "text/x-python",
   "name": "python",
   "nbconvert_exporter": "python",
   "pygments_lexer": "ipython3",
   "version": "3.10.6"
  }
 },
 "nbformat": 4,
 "nbformat_minor": 5
}
