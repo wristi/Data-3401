{
 "cells": [
  {
   "cell_type": "markdown",
   "id": "26e95334",
   "metadata": {},
   "source": [
    "\n",
    "# Exercise 1\n",
    "1. Creates a numpy array representing the 3 doors\n",
    "1. Creates a numpy array representing the prizes (0 for goat and 1 for car). You should randomly choose one of the elements of the prize array to be a car and the others should be goats.\n",
    "1. Your function should return the arrays of doors and prizes\n",
    "\n",
    "Note, you can choose a different representation here, such as a single numpy array of prizes, or a 2x3 array where the first row represents remaining doors and the second row represents prizes behind each door."
   ]
  },
  {
   "cell_type": "code",
   "execution_count": 24,
   "id": "27799055",
   "metadata": {},
   "outputs": [
    {
     "name": "stdout",
     "output_type": "stream",
     "text": [
      "{'door1': 1, 'door2': 0, 'door3': 0}\n"
     ]
    }
   ],
   "source": [
    "import numpy as np\n",
    "import matplotlib.pyplot as plt\n",
    "\n",
    "goat = 0\n",
    "car = 1\n",
    "doors = np.array([1,2,3])\n",
    "box_of_prizes = np.array([0,0,1])\n",
    "prizes = np.random.choice(a=box_of_prizes,size=(1,3), replace=False, p=None)\n",
    "\n",
    "prizes_per_door = dict()\n",
    "prizes_per_door = {\"door1\":prizes[0][0],\n",
    "                   \"door2\":prizes[0][1],\n",
    "                   \"door3\":prizes[0][2]}\n",
    "\n",
    "\n",
    "print(prizes_per_door)\n"
   ]
  },
  {
   "cell_type": "code",
   "execution_count": null,
   "id": "501976cf",
   "metadata": {},
   "outputs": [],
   "source": []
  },
  {
   "cell_type": "markdown",
   "id": "58fefda2",
   "metadata": {},
   "source": [
    "## Exercise 2\n",
    "Write a function choose_door that asks the user to input an integer 1,2,3 to choose a door and returns the door they chose. You should catch any errors that the user might make and continue asking for input until the user inputs a valid choice."
   ]
  },
  {
   "cell_type": "code",
   "execution_count": 26,
   "id": "cae9e1b6",
   "metadata": {},
   "outputs": [
    {
     "name": "stdout",
     "output_type": "stream",
     "text": [
      "Please pick a either Door 1, 2, 3:\n",
      "3\n"
     ]
    },
    {
     "data": {
      "text/plain": [
       "3"
      ]
     },
     "execution_count": 26,
     "metadata": {},
     "output_type": "execute_result"
    }
   ],
   "source": [
    "def choose_door():\n",
    "    tf = True\n",
    "    while tf == True:\n",
    "        ask = int(input(\"Please pick a either Door 1, 2, 3:\\n\"))\n",
    "        ## check if input is a integer \n",
    "        if not isinstance(ask,int):\n",
    "            print(\"Error,inputs must be a number\")\n",
    "        \n",
    "        ## confirm if user input is between 1-3\n",
    "        if ask == 1 or ask == 2 or ask == 3:\n",
    "            return doors[ask-1]\n",
    "        else: \n",
    "            print(\"FUCK you, try again coward.\")\n",
    "            \n",
    "choose_door()"
   ]
  },
  {
   "cell_type": "markdown",
   "id": "3515cbb5",
   "metadata": {},
   "source": [
    "### Exercise 3\n",
    "Write a function switch_stay that asks the user if they want to switch to the remaining door or stay with their original choice. Catch any errors and continue asking for input until the user inputs a valid choice."
   ]
  },
  {
   "cell_type": "code",
   "execution_count": null,
   "id": "3c2b5efd",
   "metadata": {},
   "outputs": [],
   "source": [
    "def switch_stay():\n",
    "    tf = True\n",
    "    while tf == True:\n",
    "        ask = (input(\"Do you want to switch or stay:\\n\"))\n",
    "        ## check if input is a string \n",
    "        if not isinstance(ask,str):\n",
    "            print(\"Error,inputs must be a number\")\n",
    "        \n",
    "        ## confirm if user input is between 1-3\n",
    "        if ask == 'switch' or ask == 'stay':\n",
    "            return\n",
    "        else: \n",
    "            print(\"FUCK you, try again coward.\")\n",
    "            \n",
    "        \n",
    "        "
   ]
  },
  {
   "cell_type": "code",
   "execution_count": null,
   "id": "58ab9722",
   "metadata": {},
   "outputs": [],
   "source": []
  },
  {
   "cell_type": "code",
   "execution_count": null,
   "id": "7ca9ab5a",
   "metadata": {},
   "outputs": [],
   "source": []
  },
  {
   "cell_type": "code",
   "execution_count": null,
   "id": "8782487e",
   "metadata": {},
   "outputs": [],
   "source": []
  }
 ],
 "metadata": {
  "kernelspec": {
   "display_name": "Python 3 (ipykernel)",
   "language": "python",
   "name": "python3"
  },
  "language_info": {
   "codemirror_mode": {
    "name": "ipython",
    "version": 3
   },
   "file_extension": ".py",
   "mimetype": "text/x-python",
   "name": "python",
   "nbconvert_exporter": "python",
   "pygments_lexer": "ipython3",
   "version": "3.10.6"
  }
 },
 "nbformat": 4,
 "nbformat_minor": 5
}
