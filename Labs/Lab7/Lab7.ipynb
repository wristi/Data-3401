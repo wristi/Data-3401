{
 "cells": [
  {
   "cell_type": "markdown",
   "id": "26e95334",
   "metadata": {},
   "source": [
    "\n",
    "# Exercise 1\n",
    "1. Creates a numpy array representing the 3 doors\n",
    "1. Creates a numpy array representing the prizes (0 for goat and 1 for car). You should randomly choose one of the elements of the prize array to be a car and the others should be goats.\n",
    "1. Your function should return the arrays of doors and prizes\n",
    "\n",
    "Note, you can choose a different representation here, such as a single numpy array of prizes, or a 2x3 array where the first row represents remaining doors and the second row represents prizes behind each door."
   ]
  },
  {
   "cell_type": "code",
   "execution_count": 58,
   "id": "27799055",
   "metadata": {},
   "outputs": [
    {
     "name": "stdout",
     "output_type": "stream",
     "text": [
      "{'door1': 0, 'door2': 1, 'door3': 0}\n"
     ]
    }
   ],
   "source": [
    "import numpy as np\n",
    "import matplotlib.pyplot as plt\n",
    "\n",
    "goat = np.random.choice(a=box_of_prizes,size=(1,3), replace=False, p=None)\n",
    "car = np.array([0,1,0])\n",
    "\n",
    "car_door = np.where(prizes==doors)[0]+1\n",
    "doors = np.array([1,2,3])\n",
    "car_doors = \n",
    "goat_doors = \n",
    "num_doors = 3\n",
    "box_of_prizes = np.array([0,0,1])\n",
    "prizes = np.random.choice(a=box_of_prizes,size=(1,3), replace=False, p=None)\n",
    "\n",
    "prizes_per_door = dict()\n",
    "prizes_per_door = {\"door1\":prizes[0][0],\n",
    "                   \"door2\":prizes[0][1],\n",
    "                   \"door3\":prizes[0][2]}\n",
    "\n",
    "\n",
    "print(prizes_per_door)\n"
   ]
  },
  {
   "cell_type": "code",
   "execution_count": null,
   "id": "501976cf",
   "metadata": {},
   "outputs": [],
   "source": []
  },
  {
   "cell_type": "markdown",
   "id": "58fefda2",
   "metadata": {},
   "source": [
    "## Exercise 2\n",
    "Write a function choose_door that asks the user to input an integer 1,2,3 to choose a door and returns the door they chose. You should catch any errors that the user might make and continue asking for input until the user inputs a valid choice."
   ]
  },
  {
   "cell_type": "code",
   "execution_count": 38,
   "id": "cae9e1b6",
   "metadata": {},
   "outputs": [
    {
     "name": "stdout",
     "output_type": "stream",
     "text": [
      "Please pick a either Door 1, 2, 3:\n",
      "2.0\n",
      "please try again.\n",
      "Please pick a either Door 1, 2, 3:\n",
      "fredrick\n",
      "please try again.\n",
      "Please pick a either Door 1, 2, 3:\n",
      "y1\n",
      "please try again.\n",
      "Please pick a either Door 1, 2, 3:\n",
      "1\n"
     ]
    },
    {
     "data": {
      "text/plain": [
       "1"
      ]
     },
     "execution_count": 38,
     "metadata": {},
     "output_type": "execute_result"
    }
   ],
   "source": [
    "def choose_door():\n",
    "    tf = True\n",
    "    while tf == True:\n",
    "        ask = input(\"Please pick a either Door 1, 2, 3:\\n\")\n",
    "        if type(ask)==str and ask == '1':\n",
    "            return int(ask)\n",
    "        if type(ask)==str and ask == '2':\n",
    "            return int(ask)\n",
    "        if type(ask)==str and ask == '3':\n",
    "            return int(ask)\n",
    "        \n",
    "        ## confirm if user input is between 1-3\n",
    "        #if ask == 1 or ask == 2 or ask == 3:\n",
    "         #   return doors[ask-1]\n",
    "        else: \n",
    "            print(\"please try again.\")\n",
    "            \n",
    "choose_door()"
   ]
  },
  {
   "cell_type": "markdown",
   "id": "3515cbb5",
   "metadata": {},
   "source": [
    "### Exercise 3\n",
    "Write a function switch_stay that asks the user if they want to switch to the remaining door or stay with their original choice. Catch any errors and continue asking for input until the user inputs a valid choice."
   ]
  },
  {
   "cell_type": "code",
   "execution_count": 10,
   "id": "3c2b5efd",
   "metadata": {},
   "outputs": [
    {
     "name": "stdout",
     "output_type": "stream",
     "text": [
      "Do you want to switch or stay:\n",
      "4\n",
      "Please enter either 'Switch' or 'Stay'.\n",
      "Do you want to switch or stay:\n",
      "1\n",
      "Please enter either 'Switch' or 'Stay'.\n",
      "Do you want to switch or stay:\n",
      "2.9\n",
      "Please enter either 'Switch' or 'Stay'.\n",
      "Do you want to switch or stay:\n",
      "stay\n"
     ]
    },
    {
     "data": {
      "text/plain": [
       "'stay'"
      ]
     },
     "execution_count": 10,
     "metadata": {},
     "output_type": "execute_result"
    }
   ],
   "source": [
    "def switch_stay():\n",
    "    tf = True\n",
    "    while tf == True:\n",
    "        ask = (input(\"Do you want to switch or stay:\\n\"))\n",
    "        ## check if input is a string \n",
    "        ask = ask.lower()\n",
    "        if not isinstance(ask,str):\n",
    "            print(\"Error,inputs must be a str\")\n",
    "        \n",
    "        ## confirm if user input is between 1-3\n",
    "        if ask == 'switch' or ask == 'stay':\n",
    "            return ask\n",
    "        else: \n",
    "            print(\"Please enter either 'Switch' or 'Stay'.\")\n",
    "            \n",
    "        \n",
    "switch_stay()"
   ]
  },
  {
   "cell_type": "markdown",
   "id": "2eceaa11",
   "metadata": {},
   "source": [
    "# Exercise 4\n",
    "Write a Monte Hall game simulator that introduces the game and proceeds in the steps given in the introduction. After step 4, your function (the host) should tell the player if they won the car! or got the goat :-(\n",
    "\n",
    "    Be sure to add print statements with appropriate messages to update the player on the status of the game\n",
    "    In the step where the host reveals a door with a goat behind it, your host should randomly choose from the remaining doors that have goats behind them\n",
    "    Test your function 3 times in the cells below\n"
   ]
  },
  {
   "cell_type": "code",
   "execution_count": null,
   "id": "7ca9ab5a",
   "metadata": {},
   "outputs": [],
   "source": [
    "def Monte_Hall_Game(num_doors):\n",
    "    print(\"\\tHello and welcome to Monte Hall,\\n\\tThere are {} doors, and I will ask which you would like to pick from.\\n\\tThe prize for winning is a car, but if you lose you get a goat, win win if you ask me\")\n",
    "    pick_door = choose_door()\n",
    "    for i in range(num_doors):\n",
    "        if pick_door == 1 or pick_door == 2 or pick_door == 3:\n",
    "            \n",
    "    \n",
    "    #switch_or_stay = switch_stay()\n",
    "    \n",
    "Monte_Hall_Game(num_doors)"
   ]
  },
  {
   "cell_type": "code",
   "execution_count": null,
   "id": "8782487e",
   "metadata": {},
   "outputs": [],
   "source": []
  }
 ],
 "metadata": {
  "kernelspec": {
   "display_name": "Python 3 (ipykernel)",
   "language": "python",
   "name": "python3"
  },
  "language_info": {
   "codemirror_mode": {
    "name": "ipython",
    "version": 3
   },
   "file_extension": ".py",
   "mimetype": "text/x-python",
   "name": "python",
   "nbconvert_exporter": "python",
   "pygments_lexer": "ipython3",
   "version": "3.8.10"
  }
 },
 "nbformat": 4,
 "nbformat_minor": 5
}
