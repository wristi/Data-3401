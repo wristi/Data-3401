{
 "cells": [
  {
   "cell_type": "markdown",
   "id": "b51c51b5",
   "metadata": {},
   "source": [
    "# Lab 4 \n",
    "Tyler Avery - 1001734381"
   ]
  },
  {
   "cell_type": "markdown",
   "id": "97e45e08",
   "metadata": {},
   "source": [
    "# Problem 1\n",
    "Write a function that takes in a list and outputs a list with the elements in reverse order without using a command like lst[::-1]."
   ]
  },
  {
   "cell_type": "code",
   "execution_count": 160,
   "id": "8ec4f97a",
   "metadata": {},
   "outputs": [
    {
     "data": {
      "text/plain": [
       "[13, 'edwfwewef']"
      ]
     },
     "execution_count": 160,
     "metadata": {},
     "output_type": "execute_result"
    }
   ],
   "source": [
    "lst1 = ['edwfwewef',13]\n",
    "\n",
    "def revlst(lst1):\n",
    "    newlst = []\n",
    "    for i in lst1:\n",
    "        newlst = [i]+ newlst\n",
    "        \n",
    "    return newlst\n",
    "revlst(lst1)"
   ]
  },
  {
   "cell_type": "markdown",
   "id": "418f9a57",
   "metadata": {},
   "source": [
    "# Problem 2 \n",
    "Write a function that takes in a string str and without using string manipulation like str[::-1] outputs a string with the characters of str in reverse order. For example, if the input is Hello, then the output should be olleH.\n",
    "\n",
    "There are many ways to do this, but you may find the command list('Hello') (change Hello to any string) useful. You may also find your solution to Exercise 1 helpful."
   ]
  },
  {
   "cell_type": "code",
   "execution_count": 157,
   "id": "606c47e5",
   "metadata": {},
   "outputs": [
    {
     "name": "stdout",
     "output_type": "stream",
     "text": [
      "IIIIIIH\n"
     ]
    }
   ],
   "source": [
    "s = 'HIIIIII'\n",
    "\n",
    "def revstr(s):\n",
    "    new_s= \"\"\n",
    "    for i in s:\n",
    "        new_s= i+new_s\n",
    "        #print(type(new_s))\n",
    "       # new_s.append(s())\n",
    "    return new_s\n",
    "print(revstr(s))"
   ]
  },
  {
   "cell_type": "markdown",
   "id": "733d7a9f",
   "metadata": {},
   "source": [
    "# Problem 3\n",
    "Write a function that computes the first twin primes for a given positive integer N. Twin primes are consecutive prime numbers separated by 2. The first few twin primes are (3,5) (5,7) (11,13), (17,19), and so on."
   ]
  },
  {
   "cell_type": "code",
   "execution_count": 81,
   "id": "881d17ec",
   "metadata": {},
   "outputs": [],
   "source": [
    "def divisors(n):\n",
    "    #returns list of all integer divisors of x\n",
    "    div_list = []\n",
    "    for i in range(1,n+1):\n",
    "        if n%i == 0:\n",
    "            div_list.append(i)\n",
    "    return div_list\n",
    "def is_prime(x):\n",
    "    if len(divisors(x))==2:\n",
    "        return True\n",
    "    else:\n",
    "        return False\n",
    "def dualprimes(x,y):\n",
    "    for i in range(x, y):\n",
    "        j = i+2\n",
    "        if(is_prime(i) and is_prime(j)):\n",
    "            print(i,\"and\", j)\n",
    "\n"
   ]
  },
  {
   "cell_type": "code",
   "execution_count": 116,
   "id": "b5e114e0",
   "metadata": {},
   "outputs": [
    {
     "name": "stdout",
     "output_type": "stream",
     "text": [
      "3 and 5\n",
      "5 and 7\n"
     ]
    }
   ],
   "source": [
    "dualprimes(1,10)"
   ]
  },
  {
   "cell_type": "code",
   "execution_count": 94,
   "id": "36529372",
   "metadata": {},
   "outputs": [
    {
     "name": "stdout",
     "output_type": "stream",
     "text": [
      "5 and 7\n",
      "11 and 13\n",
      "17 and 19\n"
     ]
    }
   ],
   "source": [
    "dualprimes(4, 20)"
   ]
  },
  {
   "cell_type": "markdown",
   "id": "5d74fda7",
   "metadata": {},
   "source": [
    "# Problem 4\n",
    "Write a function that takes in a list of lists (such as [[1,2,3],[0,1,0],[4,2,4]]) where each sublist has the same number of elements, then draws a board like the one below, but where each empty space has the corresponding element of the list.\n",
    "\n"
   ]
  },
  {
   "cell_type": "code",
   "execution_count": null,
   "id": "84416e10",
   "metadata": {},
   "outputs": [],
   "source": []
  },
  {
   "cell_type": "code",
   "execution_count": 287,
   "id": "9a2fcfc8",
   "metadata": {},
   "outputs": [
    {
     "name": "stdout",
     "output_type": "stream",
     "text": [
      "What size game board do You want? 2\n",
      " --- --- \n",
      "|   |   |\n",
      " --- --- \n",
      "|   |   |\n",
      " --- --- \n",
      "\n"
     ]
    }
   ],
   "source": [
    "def x_line (sz):\n",
    "    return \" ---\" * sz + \" \\n\"\n",
    "\n",
    "def y_line (sz):\n",
    "    return \"|   \" * sz + \"|\\n\"\n",
    "\n",
    "def gameboard (sz):\n",
    "    board = \"\"\"\"\"\"\n",
    "    for i in range(sz):\n",
    "        board += x_line(sz)\n",
    "        board += y_line(sz)\n",
    "    board += x_line(sz)\n",
    "    return board\n",
    "\n",
    "if __name__ == \"__main__\":\n",
    "    sz = int(input(\"What size game board do You want? \"))\n",
    "    print(gameboard(sz))"
   ]
  },
  {
   "cell_type": "code",
   "execution_count": 283,
   "id": "748fae28",
   "metadata": {},
   "outputs": [
    {
     "name": "stdout",
     "output_type": "stream",
     "text": [
      "1 |   2 |   3\n",
      "- - - - - - - -\n",
      "0 |   1 |   0\n",
      "- - - - - - - -\n",
      "3 |   4 |   6\n"
     ]
    }
   ],
   "source": [
    "board = [1,2,3],[0,1,0],[3,4,6]\n",
    "            \n",
    "def gameboard2(board):\n",
    "    size = 3\n",
    "    '\n",
    "    '\n",
    "    for i in range\n",
    "    print(board[0][0], '|  ', board[0][1], '|  ', board[0][2])\n",
    "    print('- - - - - - - -')\n",
    "    print(board[1][0], '|  ' ,board[1][1], '|  ' ,board[1][2])\n",
    "    print('- - - - - - - -')\n",
    "    print(board[2][0], '|  ' ,board[2][1] ,'|  ' ,board[2][2])\n",
    "    \n",
    "gameboard2(board)"
   ]
  },
  {
   "cell_type": "markdown",
   "id": "aa244a58",
   "metadata": {},
   "source": [
    "#  Problem 5\n",
    "Write a function that takes in a list of lists of size n × n and checks if the diagonal consists of all the same number"
   ]
  },
  {
   "cell_type": "code",
   "execution_count": null,
   "id": "40f85efe",
   "metadata": {},
   "outputs": [],
   "source": [
    "def diagcheck(board):"
   ]
  }
 ],
 "metadata": {
  "kernelspec": {
   "display_name": "Python 3 (ipykernel)",
   "language": "python",
   "name": "python3"
  },
  "language_info": {
   "codemirror_mode": {
    "name": "ipython",
    "version": 3
   },
   "file_extension": ".py",
   "mimetype": "text/x-python",
   "name": "python",
   "nbconvert_exporter": "python",
   "pygments_lexer": "ipython3",
   "version": "3.10.6"
  }
 },
 "nbformat": 4,
 "nbformat_minor": 5
}
