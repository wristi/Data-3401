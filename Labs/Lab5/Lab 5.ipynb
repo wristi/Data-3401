{
 "cells": [
  {
   "cell_type": "markdown",
   "id": "11dae504",
   "metadata": {},
   "source": [
    "# Problem 1\n",
    "\n",
    "As in my checkers game, use the conventions below for players, empty space, and player pieces, and write a function that makes an empty n×n\n",
    "\n",
    "Tic-Tac-Toe board for a given input argument n."
   ]
  },
  {
   "cell_type": "code",
   "execution_count": 61,
   "id": "2442a875",
   "metadata": {},
   "outputs": [
    {
     "name": "stdout",
     "output_type": "stream",
     "text": [
      "How many rows and columns would you like? This is NxN so EX: 3 is 3x3: \n",
      "3\n"
     ]
    }
   ],
   "source": [
    "# Abstract representation of players and empty space -- an empty board will be a list of lists of 0s (empty)\n",
    "player_1 = 1\n",
    "player_2 = 2\n",
    "empty = 0\n",
    "\n",
    "# When we start drawing the board, we will place \"pieces\" down for each player. Player 1 will put down \"X\", \n",
    "# Player 2 will put down \"O\", and an empty space will be drawn as a space character\n",
    "player_1_piece = \"X\"\n",
    "player_2_piece = \"O\"\n",
    "empty_space = \" \"\n",
    "\n",
    "# This dictionary will be used to draw the game board in Exercise 2.\n",
    "space_character = {player_1: player_1_piece,\n",
    "                  player_2: player_2_piece,\n",
    "                  empty: empty_space}\n",
    "\n",
    "# Set size of the board to draw\n",
    "num_rows = int(input(\"How many rows and columns would you like? This is NxN so EX: 3 is 3x3: \\n\"))\n",
    "\n",
    "num_cols = num_rows\n"
   ]
  },
  {
   "cell_type": "code",
   "execution_count": 62,
   "id": "d31c073e",
   "metadata": {},
   "outputs": [],
   "source": [
    "\n",
    "\n",
    "def init_board(num_rows):\n",
    "    #take user input to change how big the board is based on NxN    \n",
    "    board = [[empty]*num_rows for i in range(num_rows)]\n",
    "    for row in board:\n",
    "        print(row)\n",
    "        \n",
    "    return board \n",
    "\n",
    "\n",
    "  "
   ]
  },
  {
   "cell_type": "code",
   "execution_count": 63,
   "id": "4317f975",
   "metadata": {},
   "outputs": [
    {
     "name": "stdout",
     "output_type": "stream",
     "text": [
      "[0, 0, 0]\n",
      "[0, 0, 0]\n",
      "[0, 0, 0]\n"
     ]
    },
    {
     "data": {
      "text/plain": [
       "[[0, 0, 0], [0, 0, 0], [0, 0, 0]]"
      ]
     },
     "execution_count": 63,
     "metadata": {},
     "output_type": "execute_result"
    }
   ],
   "source": [
    "\n",
    "init_board(num_rows)\n"
   ]
  },
  {
   "cell_type": "markdown",
   "id": "8d12d44a",
   "metadata": {},
   "source": [
    "## Problem 2"
   ]
  },
  {
   "cell_type": "code",
   "execution_count": null,
   "id": "8b3b00d1",
   "metadata": {},
   "outputs": [],
   "source": []
  },
  {
   "cell_type": "code",
   "execution_count": 81,
   "id": "a28672fc",
   "metadata": {},
   "outputs": [],
   "source": [
    "## Initial display function example\n",
    "def draw_board(board):\n",
    "    num_rows = len(board)\n",
    "    num_cols = len(board[0])\n",
    "      \n",
    "    print(\" ---\"*num_cols)\n",
    "    for i in range(num_rows):\n",
    "        print(\"|\",end=\" \")\n",
    "        for j in range(num_cols):\n",
    "            print(space_character[board[i][j]],end=\" \")\n",
    "            print(\"|\",end=\" \")\n",
    "        print()  \n",
    "        print(\" ---\"*num_cols)"
   ]
  },
  {
   "cell_type": "code",
   "execution_count": 1,
   "id": "ec1b2190",
   "metadata": {},
   "outputs": [
    {
     "ename": "NameError",
     "evalue": "name 'size' is not defined",
     "output_type": "error",
     "traceback": [
      "\u001b[0;31m---------------------------------------------------------------------------\u001b[0m",
      "\u001b[0;31mNameError\u001b[0m                                 Traceback (most recent call last)",
      "Input \u001b[0;32mIn [1]\u001b[0m, in \u001b[0;36m<cell line: 2>\u001b[0;34m()\u001b[0m\n\u001b[1;32m      1\u001b[0m row_names \u001b[38;5;241m=\u001b[39m \u001b[38;5;124m\"\u001b[39m\u001b[38;5;124mABCDEFGHIJKLMNOPQRSTUVWXYZ\u001b[39m\u001b[38;5;124m\"\u001b[39m\n\u001b[0;32m----> 2\u001b[0m row_map \u001b[38;5;241m=\u001b[39m \u001b[38;5;28mdict\u001b[39m(\u001b[38;5;28mzip\u001b[39m(row_names,\u001b[38;5;28mrange\u001b[39m(\u001b[43msize\u001b[49m)))\n\u001b[1;32m      3\u001b[0m \u001b[38;5;28mprint\u001b[39m(row_map)\n",
      "\u001b[0;31mNameError\u001b[0m: name 'size' is not defined"
     ]
    }
   ],
   "source": [
    "row_names = \"ABCDEFGHIJKLMNOPQRSTUVWXYZ\"\n",
    "row_map = dict(zip(row_names,range(size)))\n",
    "print(row_map)"
   ]
  },
  {
   "cell_type": "code",
   "execution_count": null,
   "id": "a4a64f84",
   "metadata": {},
   "outputs": [],
   "source": [
    "def draw_board(board):\n",
    "    print(\" \", end = \"\")\n",
    "    for k in range(size):\n",
    "        print(\" \" + col_names[k], end = \"\")\n",
    "    print()\n",
    "    \n",
    "    for i in range(size):\n",
    "        print(row_names[i], end = \" \")\n",
    "        for j in range(size):\n",
    "            print(space_character[board[i][j]], end=' ')\n",
    "        print()"
   ]
  },
  {
   "cell_type": "code",
   "execution_count": 82,
   "id": "32ea4443",
   "metadata": {},
   "outputs": [
    {
     "name": "stdout",
     "output_type": "stream",
     "text": [
      " --- --- ---\n",
      "|   |   |   | \n",
      " --- --- ---\n",
      "|   |   |   | \n",
      " --- --- ---\n",
      "|   |   |   | \n",
      " --- --- ---\n"
     ]
    }
   ],
   "source": [
    "draw_board(board)"
   ]
  },
  {
   "cell_type": "code",
   "execution_count": null,
   "id": "96a5b572",
   "metadata": {},
   "outputs": [],
   "source": []
  }
 ],
 "metadata": {
  "kernelspec": {
   "display_name": "Python 3 (ipykernel)",
   "language": "python",
   "name": "python3"
  },
  "language_info": {
   "codemirror_mode": {
    "name": "ipython",
    "version": 3
   },
   "file_extension": ".py",
   "mimetype": "text/x-python",
   "name": "python",
   "nbconvert_exporter": "python",
   "pygments_lexer": "ipython3",
   "version": "3.10.6"
  }
 },
 "nbformat": 4,
 "nbformat_minor": 5
}
