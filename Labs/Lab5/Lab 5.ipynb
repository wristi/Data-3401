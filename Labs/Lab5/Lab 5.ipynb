{
 "cells": [
  {
   "cell_type": "markdown",
   "id": "8ae209d7",
   "metadata": {},
   "source": [
    "# Tyler Avery 1001734381\n",
    "I collaborated with Pragna Goura and Ayat\n"
   ]
  },
  {
   "cell_type": "markdown",
   "id": "11dae504",
   "metadata": {},
   "source": [
    "# Problem 1\n",
    "\n",
    "As in my checkers game, use the conventions below for players, empty space, and player pieces, and write a function that makes an empty n×n\n",
    "\n",
    "Tic-Tac-Toe board for a given input argument n."
   ]
  },
  {
   "cell_type": "code",
   "execution_count": null,
   "id": "2442a875",
   "metadata": {},
   "outputs": [],
   "source": [
    "\n",
    "\n",
    "# Abstract representation of players and empty space -- an empty board will be a list of lists of 0s (empty)\n",
    "player_1 = 1\n",
    "player_2 = 2\n",
    "empty = 0\n",
    "\n",
    "# When we start drawing the board, we will place \"pieces\" down for each player. Player 1 will put down \"X\", \n",
    "# Player 2 will put down \"O\", and an empty space will be drawn as a space character\n",
    "player_1_piece = \"X\"\n",
    "player_2_piece = \"O\"\n",
    "empty_space = \" \"\n",
    "\n",
    "# This dictionary will be used to draw the game board in Exercise 2.\n",
    "space_character = {player_1: player_1_piece,\n",
    "                  player_2: player_2_piece,\n",
    "                  empty: empty_space}\n",
    "\n",
    "# Set size of the board to draw\n",
    "\n",
    "num_rows = size\n",
    "\n",
    "num_cols = num_rows\n"
   ]
  },
  {
   "cell_type": "code",
   "execution_count": null,
   "id": "d31c073e",
   "metadata": {},
   "outputs": [],
   "source": [
    "\n",
    "def init_board(size):\n",
    "    #take user input to change how big the board is based on NxN    \n",
    "    board = [[empty]*size for i in range(size)]\n",
    "    for row in board:\n",
    "        \n",
    "    return board \n",
    "\n",
    "\n",
    "  "
   ]
  },
  {
   "cell_type": "code",
   "execution_count": null,
   "id": "4317f975",
   "metadata": {},
   "outputs": [],
   "source": []
  },
  {
   "cell_type": "markdown",
   "id": "8d12d44a",
   "metadata": {},
   "source": [
    "## Problem 2"
   ]
  },
  {
   "cell_type": "code",
   "execution_count": null,
   "id": "8b3b00d1",
   "metadata": {},
   "outputs": [],
   "source": []
  },
  {
   "cell_type": "code",
   "execution_count": null,
   "id": "a28672fc",
   "metadata": {},
   "outputs": [],
   "source": [
    "## Initial display function example\n",
    "\n",
    "def draw_board(board):\n",
    "    num_rows = len(board)\n",
    "    num_cols = len(board[0])\n",
    "    \n",
    "    #Using the dict function to add the labels\n",
    "    #A-Z\n",
    "    row_names = \"ABCDEFGHIJKLMNOPQRSTUVWXYZ\"\n",
    "    row_map = dict(zip(row_names,range(num_rows)))\n",
    "    \n",
    "    #1 - 5\n",
    "    col_names = list(map(str,range(1,num_cols+1)))\n",
    "    col_map = dict(zip(col_names,range(num_cols)))\n",
    "    \n",
    "    #Cols \n",
    "    print(\"  \", end = \" \")\n",
    "    for k in range(num_rows):\n",
    "        print(\" \" + col_names[k], end = \"  \")\n",
    "    print( )\n",
    "    print(\"---- \"*num_cols)\n",
    "    \n",
    "    #Rows \n",
    "    for i in range(num_rows):\n",
    "        print(\"\",end=\" \")\n",
    "        print(row_names[i], end = \" |\")\n",
    "        \n",
    "        #Elements\n",
    "        for j in range(num_cols):\n",
    "            print(space_character[board[i][j]],end=\" \")\n",
    "            print(\"| \",end=\"\")\n",
    "        print()  \n",
    "        print(\"---- \"*num_cols)\n",
    "    "
   ]
  },
  {
   "cell_type": "code",
   "execution_count": null,
   "id": "ec1b2190",
   "metadata": {},
   "outputs": [],
   "source": [
    "print(draw_board(board))"
   ]
  },
  {
   "cell_type": "markdown",
   "id": "eed7624f",
   "metadata": {},
   "source": [
    "## Problem 3\n",
    "Write a function make_move that takes in a board, player, and location, and puts the player's piece at the given location on the board (note there are some logical steps to check here just like in our checkers game)."
   ]
  },
  {
   "cell_type": "code",
   "execution_count": null,
   "id": "32ea4443",
   "metadata": {},
   "outputs": [],
   "source": []
  },
  {
   "cell_type": "code",
   "execution_count": 482,
   "id": "96a5b572",
   "metadata": {},
   "outputs": [
    {
     "name": "stdout",
     "output_type": "stream",
     "text": [
      "The move is off the board\n"
     ]
    },
    {
     "data": {
      "text/plain": [
       "False"
      ]
     },
     "execution_count": 482,
     "metadata": {},
     "output_type": "execute_result"
    }
   ],
   "source": [
    "\n",
    "def make_move(board,location,player):\n",
    "    location = parse_location(location)\n",
    "    \n",
    "    x,y = location\n",
    "    # Check if location is valid\n",
    "    if x not in range(size) or y not in range(size):\n",
    "        print(\"Location is invalid\")\n",
    "        return False\n",
    "    \n",
    "    # Check that the location is on the board, if not return False\n",
    "    if  not (x in range(size) and y in range(size)) :\n",
    "        print(\"The move is off the board\")\n",
    "        return False\n",
    "    else:\n",
    "        print(\"The move is off the board\")\n",
    "        return False\n",
    "\n",
    "    # Remove player piece from original location (x,y)\n",
    "    if board[x][y] == empty:\n",
    "        board[x][y] = player\n",
    "    else:\n",
    "        return False\n",
    "\n",
    "\n",
    "player = player_1    \n",
    "\n",
    "make_move(board,location_string, player)"
   ]
  },
  {
   "cell_type": "markdown",
   "id": "9d8d40dd",
   "metadata": {},
   "source": [
    "# problem 4"
   ]
  },
  {
   "cell_type": "code",
   "execution_count": 483,
   "id": "43d14f53",
   "metadata": {},
   "outputs": [],
   "source": [
    "\n",
    "def parse_location(location_string):\n",
    "    # Take in string of the form \"A1\" and map it to board location of the form (0,0)\n",
    "    \n",
    "    # require input to be a string\n",
    "    if not isinstance(location_string,str):\n",
    "        print(\"Error, location must be a string.\")\n",
    "        return False\n",
    "    \n",
    "    if not len(location_string)<=3:\n",
    "        print(\"Error, location must be of the form 'A3'\")\n",
    "        return False\n",
    "    \n",
    "    if len(location_string) == 2:\n",
    "        row = location_string[0]\n",
    "        col = location_string[1]\n",
    "    else:\n",
    "        row = location_string[0]\n",
    "        col = location_string[1:]\n",
    "        \n",
    "    if not row in row_map:\n",
    "        print(\"Invalid row.\")\n",
    "        return False\n",
    "    \n",
    "    if not col in col_map:\n",
    "        print(\"Invalid column.\")\n",
    "        return False\n",
    "    \n",
    "    return row_map[row], col_map[col]\n",
    "\n",
    "\n",
    "\n",
    "\n"
   ]
  },
  {
   "cell_type": "markdown",
   "id": "27ffce09",
   "metadata": {},
   "source": [
    "## Problem 5\n",
    "Write a function that takes a board, and checks its status. Your function should returns -1 if the game is incomplete, 0 if the game is a draw, 1 if player 1 has won, and 2 if player 2 has won"
   ]
  },
  {
   "cell_type": "code",
   "execution_count": null,
   "id": "9c9bef5b",
   "metadata": {},
   "outputs": [],
   "source": [
    "## Here is code to check if a player has won (Lab 4, Exercise 6). I have modified them to return\n",
    "## the player who has won rather or False if there is no row/col/diagonal winner rather than \n",
    "## returning only True if there is a winner.\n",
    "\n",
    "## You should take these functions and put them inside a function called game_state(board)\n",
    "## This function will use the functions below to check if there is a winner, \n",
    "## and return the player if so\n",
    "## You will need to write another function to determine if the game is a draw and return 0\n",
    "\n",
    "def is_winner(lst):\n",
    "    if lst == [player_1]*len(lst):\n",
    "        return player_1\n",
    "    elif lst == [player_2]*len(lst):\n",
    "        return player_2\n",
    "    else:\n",
    "        return False\n",
    "# Check row winner\n",
    "def row_winner(board):\n",
    "    for i in range(num_rows):\n",
    "        if board[i] == [player_1]*num_cols:\n",
    "            return player_1\n",
    "        if board[i] == [player_2]*num_cols:\n",
    "            return player_2\n",
    "        ## if is_winner(board[i])==player_1:\n",
    "        ##    return player_1\n",
    "    return False\n",
    "\n",
    "def col_winner(board):\n",
    "    # Make lists of columns\n",
    "    col_list = []\n",
    "    for i in range(num_cols):\n",
    "        col = []\n",
    "        for j in range(num_rows):\n",
    "            col.append(board[j][i])\n",
    "        col_list.append(col)\n",
    "    \n",
    "    for i in range(num_cols):\n",
    "        if is_winner(col_list[i]) == player_1:\n",
    "            return player_1\n",
    "        if is_winner(col_list[i]) == player_2:\n",
    "            return player_2\n",
    "    return False\n",
    "\n",
    "def diag_winner(board):\n",
    "    # Make diagonal and anti-diagonal lists\n",
    "    diag = []\n",
    "    anti_diag = []\n",
    "    for j in range(num_rows):\n",
    "        diag.append(board[j][j])\n",
    "        anti_diag.append(board[j][num_cols-j-1])\n",
    "    diag_list = [diag, anti_diag]\n",
    "    \n",
    "    for i in range(2):\n",
    "        if is_winner(diag_list[i]) == player_1:\n",
    "            return player_1\n",
    "        if is_winner(diag_list[i]) == player_2:\n",
    "            return player_2\n",
    "    return False\n",
    "def is_full(board):\n",
    "    counter = 0\n",
    "    for i in range(num_rows):\n",
    "        for j in range(num_cols):\n",
    "            if board[i][j] != empty:\n",
    "                counter += 1\n",
    "    if counter == num_rows*num3_cols:\n",
    "        return True\n",
    "def game_state(board):\n",
    "    if row_winner(board):\n",
    "        return row_winner(board)\n",
    "    elif col_winner(board):\n",
    "        return col_winner(board)\n",
    "    elif diag_winner(board):\n",
    "        return diag_winner(board)\n",
    "    elif is_full(board):\n",
    "        return -1\n",
    "    else:\n",
    "        return 0\n"
   ]
  },
  {
   "cell_type": "markdown",
   "id": "4443b80c",
   "metadata": {},
   "source": [
    "## Problem 6\n",
    "Putting it all together: write a function tictactoe_game() that starts by drawing an empty board, and successively asks for Player 1 move followed by Player 2 move, until the game is over. The game should end once there is a winner, or if the board is filled and the game ends in a draw.\n",
    "\n",
    "Your game should draw the state of the board after each successful player move.\n",
    "\n",
    "Your game should print a winning (or draw) message at the end of the game.\n"
   ]
  },
  {
   "cell_type": "code",
   "execution_count": 484,
   "id": "da90268d",
   "metadata": {},
   "outputs": [],
   "source": [
    "import time\n",
    "\n",
    "def nice_move_piece(board,location_string, player):\n",
    "    location = parse_location(location_string)\n",
    "    \n",
    "    if not location:\n",
    "        print(\"Error, invalid location or move string.\")\n",
    "    else:\n",
    "        return make_move(board, location_string, player)\n",
    "\n",
    "def take_move(board,player):\n",
    "    # initialize valid move as False\n",
    "    valid_move = False\n",
    "    \n",
    "    while not valid_move:\n",
    "        location_string = input(\"Please input a board location (example: A5)\")\n",
    "        \n",
    "        if location_string == \"XX\":\n",
    "            return -1\n",
    "        else:\n",
    "            make_move(board,location_string,player)\n",
    "        \n",
    "def tictactoe_game():\n",
    "    print(\"---Greetings! This is Tyler's Tic Tac Toe, enjoy!---\")\n",
    "    print('---------------------------------------------------')\n",
    "    time.sleep(1)\n",
    "    \n",
    "    size = int(input(\"How many rows and columns would you like? This is NxN so EX: 3 is 3x3: \\n\"))\n",
    "    board = init_board(size)\n",
    "        \n",
    "    player = player_1\n",
    "    \n",
    "    this_game_won = False\n",
    "    \n",
    "    while not this_game_won:\n",
    "        draw_board(board)\n",
    "\n",
    "        if player == player_1:\n",
    "            print(\"Player 1 move:\")\n",
    "        else:\n",
    "            print(\"Player 2 move:\")\n",
    "        \n",
    "        this_move = take_move(board,player)\n",
    "        \n",
    "        if this_move == -1:\n",
    "            print(\"Player has quit the game\")\n",
    "            break\n",
    "        \n",
    "        this_game_won = game_state(board)\n",
    "        \n",
    "        if player == player_1:\n",
    "            player = player_2\n",
    "        else:\n",
    "            player = player_1\n",
    "        \n",
    "    draw_board(board)\n",
    "    if this_game_won == -1:\n",
    "        print(\"There is no winner, this is an empty board.\")\n",
    "    else:\n",
    "        print(\"The winner is\", this_game_won) "
   ]
  },
  {
   "cell_type": "code",
   "execution_count": 470,
   "id": "dc69f46b",
   "metadata": {},
   "outputs": [
    {
     "name": "stdout",
     "output_type": "stream",
     "text": [
      "---Greetings! This is Tyler's Tic Tac Toe, enjoy!---\n",
      "---------------------------------------------------\n",
      "How many rows and columns would you like? This is NxN so EX: 3 is 3x3: \n",
      "5\n",
      "[0, 0, 0, 0, 0]\n",
      "[0, 0, 0, 0, 0]\n",
      "[0, 0, 0, 0, 0]\n",
      "[0, 0, 0, 0, 0]\n",
      "[0, 0, 0, 0, 0]\n",
      "    1   2   3   4   5  \n",
      "---- ---- ---- ---- ---- \n",
      " A |  |   |   |   |   | \n",
      "---- ---- ---- ---- ---- \n",
      " B |  |   |   |   |   | \n",
      "---- ---- ---- ---- ---- \n",
      " C |  |   |   |   |   | \n",
      "---- ---- ---- ---- ---- \n",
      " D |  |   |   |   |   | \n",
      "---- ---- ---- ---- ---- \n",
      " E |  |   |   |   |   | \n",
      "---- ---- ---- ---- ---- \n",
      "Player 1 move:\n",
      "Please input a board location (example: A5)A6\n",
      "Invalid column.\n"
     ]
    },
    {
     "ename": "TypeError",
     "evalue": "cannot unpack non-iterable bool object",
     "output_type": "error",
     "traceback": [
      "\u001b[0;31m---------------------------------------------------------------------------\u001b[0m",
      "\u001b[0;31mTypeError\u001b[0m                                 Traceback (most recent call last)",
      "Input \u001b[0;32mIn [470]\u001b[0m, in \u001b[0;36m<cell line: 1>\u001b[0;34m()\u001b[0m\n\u001b[0;32m----> 1\u001b[0m \u001b[43mtictactoe_game\u001b[49m\u001b[43m(\u001b[49m\u001b[43m)\u001b[49m\n",
      "Input \u001b[0;32mIn [468]\u001b[0m, in \u001b[0;36mtictactoe_game\u001b[0;34m()\u001b[0m\n\u001b[1;32m     32\u001b[0m \u001b[38;5;28;01melse\u001b[39;00m:\n\u001b[1;32m     33\u001b[0m     \u001b[38;5;28mprint\u001b[39m(\u001b[38;5;124m\"\u001b[39m\u001b[38;5;124mPlayer 2 move:\u001b[39m\u001b[38;5;124m\"\u001b[39m)\n\u001b[0;32m---> 35\u001b[0m this_move \u001b[38;5;241m=\u001b[39m \u001b[43mtake_move\u001b[49m\u001b[43m(\u001b[49m\u001b[43mboard\u001b[49m\u001b[43m,\u001b[49m\u001b[43mplayer\u001b[49m\u001b[43m)\u001b[49m\n\u001b[1;32m     37\u001b[0m \u001b[38;5;28;01mif\u001b[39;00m this_move \u001b[38;5;241m==\u001b[39m \u001b[38;5;241m-\u001b[39m\u001b[38;5;241m1\u001b[39m:\n\u001b[1;32m     38\u001b[0m     \u001b[38;5;28mprint\u001b[39m(\u001b[38;5;124m\"\u001b[39m\u001b[38;5;124mPlayer has quit the game\u001b[39m\u001b[38;5;124m\"\u001b[39m)\n",
      "Input \u001b[0;32mIn [468]\u001b[0m, in \u001b[0;36mtake_move\u001b[0;34m(board, player)\u001b[0m\n\u001b[1;32m     11\u001b[0m     \u001b[38;5;28;01mreturn\u001b[39;00m \u001b[38;5;241m-\u001b[39m\u001b[38;5;241m1\u001b[39m\n\u001b[1;32m     12\u001b[0m \u001b[38;5;28;01melse\u001b[39;00m:\n\u001b[0;32m---> 13\u001b[0m     \u001b[43mmake_move\u001b[49m\u001b[43m(\u001b[49m\u001b[43mboard\u001b[49m\u001b[43m,\u001b[49m\u001b[43mlocation_string\u001b[49m\u001b[43m,\u001b[49m\u001b[43mplayer\u001b[49m\u001b[43m)\u001b[49m\n",
      "Input \u001b[0;32mIn [464]\u001b[0m, in \u001b[0;36mmake_move\u001b[0;34m(board, location, player)\u001b[0m\n\u001b[1;32m      1\u001b[0m \u001b[38;5;28;01mdef\u001b[39;00m \u001b[38;5;21mmake_move\u001b[39m(board,location,player):\n\u001b[1;32m      2\u001b[0m     location \u001b[38;5;241m=\u001b[39m parse_location(location)\n\u001b[0;32m----> 3\u001b[0m     x,y \u001b[38;5;241m=\u001b[39m location\n\u001b[1;32m      5\u001b[0m     \u001b[38;5;66;03m# Check if location is valid\u001b[39;00m\n\u001b[1;32m      6\u001b[0m     \u001b[38;5;28;01mif\u001b[39;00m x \u001b[38;5;129;01mnot\u001b[39;00m \u001b[38;5;129;01min\u001b[39;00m \u001b[38;5;28mrange\u001b[39m(size) \u001b[38;5;129;01mor\u001b[39;00m y \u001b[38;5;129;01mnot\u001b[39;00m \u001b[38;5;129;01min\u001b[39;00m \u001b[38;5;28mrange\u001b[39m(size):\n",
      "\u001b[0;31mTypeError\u001b[0m: cannot unpack non-iterable bool object"
     ]
    }
   ],
   "source": [
    "tictactoe_game()\n"
   ]
  },
  {
   "cell_type": "code",
   "execution_count": null,
   "id": "043a0395",
   "metadata": {},
   "outputs": [],
   "source": []
  },
  {
   "cell_type": "code",
   "execution_count": 487,
   "id": "11d43842",
   "metadata": {},
   "outputs": [
    {
     "name": "stdout",
     "output_type": "stream",
     "text": [
      "[0, 0, 0, 0, 0]\n",
      "[0, 0, 0, 0, 0]\n",
      "[0, 0, 0, 0, 0]\n",
      "[0, 0, 0, 0, 0]\n",
      "[0, 0, 0, 0, 0]\n",
      "    1   2   3   4   5  \n",
      "---- ---- ---- ---- ---- \n",
      " A |  |   |   |   |   | \n",
      "---- ---- ---- ---- ---- \n",
      " B |  |   |   |   |   | \n",
      "---- ---- ---- ---- ---- \n",
      " C |  |   |   |   |   | \n",
      "---- ---- ---- ---- ---- \n",
      " D |  |   |   |   |   | \n",
      "---- ---- ---- ---- ---- \n",
      " E |  |   |   |   |   | \n",
      "---- ---- ---- ---- ---- \n",
      "The move is off the board\n",
      "    1   2   3   4   5  \n",
      "---- ---- ---- ---- ---- \n",
      " A |  |   |   |   |   | \n",
      "---- ---- ---- ---- ---- \n",
      " B |  |   |   |   |   | \n",
      "---- ---- ---- ---- ---- \n",
      " C |  |   |   |   |   | \n",
      "---- ---- ---- ---- ---- \n",
      " D |  |   |   |   |   | \n",
      "---- ---- ---- ---- ---- \n",
      " E |  |   |   |   |   | \n",
      "---- ---- ---- ---- ---- \n"
     ]
    }
   ],
   "source": [
    "board0 = init_board(size)\n",
    "draw_board(board0)\n",
    "\n",
    "nice_move_piece(board0, \"A2\",player_1)\n",
    "draw_board(board0)"
   ]
  },
  {
   "cell_type": "code",
   "execution_count": null,
   "id": "cd1df748",
   "metadata": {},
   "outputs": [],
   "source": []
  }
 ],
 "metadata": {
  "kernelspec": {
   "display_name": "Python 3 (ipykernel)",
   "language": "python",
   "name": "python3"
  },
  "language_info": {
   "codemirror_mode": {
    "name": "ipython",
    "version": 3
   },
   "file_extension": ".py",
   "mimetype": "text/x-python",
   "name": "python",
   "nbconvert_exporter": "python",
   "pygments_lexer": "ipython3",
   "version": "3.10.6"
  }
 },
 "nbformat": 4,
 "nbformat_minor": 5
}
