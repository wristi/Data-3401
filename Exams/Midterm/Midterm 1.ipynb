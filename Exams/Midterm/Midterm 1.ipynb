{
 "cells": [
  {
   "cell_type": "markdown",
   "id": "2305b501",
   "metadata": {},
   "source": [
    "## Midterm Exam #1\n",
    "    tyler avery 1001734381"
   ]
  },
  {
   "cell_type": "markdown",
   "id": "c3b7b237",
   "metadata": {},
   "source": [
    "## Exercise 1"
   ]
  },
  {
   "cell_type": "code",
   "execution_count": 384,
   "id": "2971d04f",
   "metadata": {},
   "outputs": [],
   "source": [
    "def returnprod():\n",
    "    print(\"\\tThis is a calculator that gives you the Product of three numbers,\\n\\tbelow you will be asked to input whichever numbers you'd like.\\n\\tIntegers or Float values only!\\n\")\n",
    "    n_1 = float(input(\"Please enter your first number: \"))\n",
    "    n_2 = float(input(\"Please enter your second number: \"))\n",
    "    n_3 = float(input('Please enter your third number: '))\n",
    "    return n_1*n_2 *n_3\n"
   ]
  },
  {
   "cell_type": "code",
   "execution_count": 385,
   "id": "0be8522a",
   "metadata": {},
   "outputs": [
    {
     "name": "stdout",
     "output_type": "stream",
     "text": [
      "\tThis is a calculator that gives you the Product of three numbers,\n",
      "\tbelow you will be asked to input whichever numbers you'd like.\n",
      "\tIntegers or Float values only!\n",
      "\n",
      "Please enter your first number: 1\n",
      "Please enter your second number: 43\n",
      "Please enter your third number: 2\n"
     ]
    },
    {
     "data": {
      "text/plain": [
       "86.0"
      ]
     },
     "execution_count": 385,
     "metadata": {},
     "output_type": "execute_result"
    }
   ],
   "source": [
    "returnprod()"
   ]
  },
  {
   "cell_type": "code",
   "execution_count": 386,
   "id": "262566e1",
   "metadata": {},
   "outputs": [
    {
     "name": "stdout",
     "output_type": "stream",
     "text": [
      "\tThis is a calculator that gives you the Product of three numbers,\n",
      "\tbelow you will be asked to input whichever numbers you'd like.\n",
      "\tIntegers or Float values only!\n",
      "\n",
      "Please enter your first number: 12\n",
      "Please enter your second number: 2\n",
      "Please enter your third number: 5\n"
     ]
    },
    {
     "data": {
      "text/plain": [
       "120.0"
      ]
     },
     "execution_count": 386,
     "metadata": {},
     "output_type": "execute_result"
    }
   ],
   "source": [
    "returnprod()"
   ]
  },
  {
   "cell_type": "markdown",
   "id": "66e59dfc",
   "metadata": {},
   "source": [
    "### Problem 2"
   ]
  },
  {
   "cell_type": "code",
   "execution_count": null,
   "id": "dba3141b",
   "metadata": {},
   "outputs": [],
   "source": []
  },
  {
   "cell_type": "code",
   "execution_count": null,
   "id": "5d0e33c1",
   "metadata": {},
   "outputs": [],
   "source": []
  },
  {
   "cell_type": "code",
   "execution_count": null,
   "id": "76d32622",
   "metadata": {},
   "outputs": [],
   "source": []
  },
  {
   "cell_type": "code",
   "execution_count": null,
   "id": "9ce9caf9",
   "metadata": {},
   "outputs": [],
   "source": []
  },
  {
   "cell_type": "code",
   "execution_count": 389,
   "id": "315e30c9",
   "metadata": {},
   "outputs": [],
   "source": [
    "# Write your function here\n",
    "def recursive(n):\n",
    " \n",
    "    sequence = [1,3]\n",
    "    for k in range(2,n+1):\n",
    "        sequence.append(((sequence[-1]-sequence[-2])**2)/3)\n",
    "    return sequence"
   ]
  },
  {
   "cell_type": "code",
   "execution_count": 392,
   "id": "12ec1e33",
   "metadata": {},
   "outputs": [
    {
     "data": {
      "text/plain": [
       "[1,\n",
       " 3,\n",
       " 1.3333333333333333,\n",
       " 0.925925925925926,\n",
       " 0.0553269318701417,\n",
       " 0.25264753615031454,\n",
       " 0.01297847362449752,\n",
       " 0.019147086510667995,\n",
       " 1.268392831314281e-05,\n",
       " 0.00012204178739454271,\n",
       " 3.986380447622439e-09,\n",
       " 4.964408292118622e-09,\n",
       " 3.1884615486995043e-19,\n",
       " 8.215116562563457e-18,\n",
       " 2.078369545047206e-35,\n",
       " 2.2496046712168145e-35,\n",
       " 9.773822811440573e-73,\n",
       " 1.6869070589201707e-70,\n",
       " 9.37591963886847e-141,\n",
       " 9.485518084782334e-141,\n",
       " 4.003939782244758e-285]"
      ]
     },
     "execution_count": 392,
     "metadata": {},
     "output_type": "execute_result"
    }
   ],
   "source": [
    "recursive(5)\n",
    "\n",
    "recursive(10)\n",
    "\n",
    "recursive(15)\n",
    "\n",
    "recursive(20)"
   ]
  },
  {
   "cell_type": "markdown",
   "id": "47a1a43f",
   "metadata": {},
   "source": [
    "### Problem 3"
   ]
  },
  {
   "cell_type": "code",
   "execution_count": 479,
   "id": "5f472b85",
   "metadata": {},
   "outputs": [
    {
     "ename": "TypeError",
     "evalue": "'>' not supported between instances of 'float' and 'str'",
     "output_type": "error",
     "traceback": [
      "\u001b[0;31m---------------------------------------------------------------------------\u001b[0m",
      "\u001b[0;31mTypeError\u001b[0m                                 Traceback (most recent call last)",
      "Input \u001b[0;32mIn [479]\u001b[0m, in \u001b[0;36m<cell line: 14>\u001b[0;34m()\u001b[0m\n\u001b[1;32m     11\u001b[0m     \u001b[38;5;28;01melse\u001b[39;00m:\n\u001b[1;32m     12\u001b[0m         \u001b[38;5;28;01mreturn\u001b[39;00m Lis[\u001b[38;5;241m0\u001b[39m]\n\u001b[0;32m---> 14\u001b[0m \u001b[43mrec_max\u001b[49m\u001b[43m(\u001b[49m\u001b[43mmy_list\u001b[49m\u001b[43m)\u001b[49m\n",
      "Input \u001b[0;32mIn [474]\u001b[0m, in \u001b[0;36mrec_max\u001b[0;34m(L)\u001b[0m\n\u001b[1;32m      1\u001b[0m \u001b[38;5;28;01mdef\u001b[39;00m \u001b[38;5;21mrec_max\u001b[39m(L):\n\u001b[1;32m      2\u001b[0m     \u001b[38;5;28;01mif\u001b[39;00m L[\u001b[38;5;241m1\u001b[39m:]:\n\u001b[0;32m----> 3\u001b[0m         recursed_max \u001b[38;5;241m=\u001b[39m \u001b[43mrec_max\u001b[49m\u001b[43m(\u001b[49m\u001b[43mL\u001b[49m\u001b[43m[\u001b[49m\u001b[38;5;241;43m1\u001b[39;49m\u001b[43m:\u001b[49m\u001b[43m]\u001b[49m\u001b[43m)\u001b[49m\n\u001b[1;32m      4\u001b[0m         \u001b[38;5;28;01mif\u001b[39;00m L[\u001b[38;5;241m0\u001b[39m] \u001b[38;5;241m>\u001b[39m recursed_max:\n\u001b[1;32m      5\u001b[0m             \u001b[38;5;28;01mreturn\u001b[39;00m L[\u001b[38;5;241m0\u001b[39m]\n",
      "Input \u001b[0;32mIn [474]\u001b[0m, in \u001b[0;36mrec_max\u001b[0;34m(L)\u001b[0m\n\u001b[1;32m      2\u001b[0m \u001b[38;5;28;01mif\u001b[39;00m L[\u001b[38;5;241m1\u001b[39m:]:\n\u001b[1;32m      3\u001b[0m     recursed_max \u001b[38;5;241m=\u001b[39m rec_max(L[\u001b[38;5;241m1\u001b[39m:])\n\u001b[0;32m----> 4\u001b[0m     \u001b[38;5;28;01mif\u001b[39;00m \u001b[43mL\u001b[49m\u001b[43m[\u001b[49m\u001b[38;5;241;43m0\u001b[39;49m\u001b[43m]\u001b[49m\u001b[43m \u001b[49m\u001b[38;5;241;43m>\u001b[39;49m\u001b[43m \u001b[49m\u001b[43mrecursed_max\u001b[49m:\n\u001b[1;32m      5\u001b[0m         \u001b[38;5;28;01mreturn\u001b[39;00m L[\u001b[38;5;241m0\u001b[39m]\n\u001b[1;32m      6\u001b[0m     \u001b[38;5;28;01melse\u001b[39;00m:\n",
      "\u001b[0;31mTypeError\u001b[0m: '>' not supported between instances of 'float' and 'str'"
     ]
    }
   ],
   "source": [
    "my_list = [1.2, 3/4, \"Hello World\"]\n",
    "def _maximum(Lis):\n",
    "    if Lis[1:]:\n",
    "        _max = _maximum(L[1:])\n",
    "        if Lis[0] > _max:\n",
    "            return L[0]\n",
    "        else:\n",
    "            return _max \n",
    "    elif not Lis:\n",
    "        return\n",
    "    else:\n",
    "        return Lis[0]\n",
    "\n",
    "rec_max(my_list)"
   ]
  },
  {
   "cell_type": "code",
   "execution_count": null,
   "id": "6b44fc3f",
   "metadata": {},
   "outputs": [],
   "source": []
  },
  {
   "cell_type": "code",
   "execution_count": 481,
   "id": "c796935a",
   "metadata": {},
   "outputs": [
    {
     "data": {
      "text/plain": [
       "800"
      ]
     },
     "execution_count": 481,
     "metadata": {},
     "output_type": "execute_result"
    }
   ],
   "source": [
    "def _maximum(Lis):\n",
    "    if Lis[1:]:\n",
    "        _max = _maximum(L[1:])\n",
    "        if Lis[0] > _max:\n",
    "            return L[0]\n",
    "        else:\n",
    "            return _max \n",
    "    elif not Lis:\n",
    "        return\n",
    "    else:\n",
    "        return Lis[0]\n",
    "my_list = [12, 56, 800, 78, 34, 52, 25, 30]\n",
    "rec_max(my_list)"
   ]
  },
  {
   "cell_type": "markdown",
   "id": "af7eb5b2",
   "metadata": {},
   "source": [
    "### Problem 4"
   ]
  },
  {
   "cell_type": "code",
   "execution_count": 446,
   "id": "a14e441d",
   "metadata": {},
   "outputs": [],
   "source": [
    "    \n",
    "marvel = [('Thor', 'August',10),\n",
    "        ('Phil Coulson','July',8),\n",
    "        ('T\\'Challa','November',29),\n",
    "        ('Peter Parker','August',10),\n",
    "        ('Tony Stark', 'March', 14)]\n",
    "    \n",
    "def birthdayychecker(bday):\n",
    "    #Using a 1D array like its a 2D array\n",
    "    #Bc its a list of lists, we can go through each row, but we are only worried about month and day\n",
    "    #similar to rowwinner\n",
    "    for i in range(len(bday)):\n",
    "        for j in range(len(bday)):\n",
    "            if (bday[i][1] == bday[j][1]) and (bday[i][2] == bday[j][2]):\n",
    "                return True\n",
    "            return False\n",
    "\n",
    "                  \n",
    "            \n",
    "    "
   ]
  },
  {
   "cell_type": "code",
   "execution_count": 447,
   "id": "3d809856",
   "metadata": {},
   "outputs": [
    {
     "data": {
      "text/plain": [
       "True"
      ]
     },
     "execution_count": 447,
     "metadata": {},
     "output_type": "execute_result"
    }
   ],
   "source": [
    "birthdayychecker(marvel)"
   ]
  },
  {
   "cell_type": "code",
   "execution_count": 459,
   "id": "c730e107",
   "metadata": {},
   "outputs": [],
   "source": [
    "    \n",
    "geminis = [('Kanye West','June',8),\n",
    "            ('Johhny Depp','June',9),\n",
    "            ('Genghis Khan','May',31),\n",
    "            ('Tupac Shakur','June',16),\n",
    "            ('Ice Cube', 'June', 15)]\n",
    "    \n",
    "def birthdayychecker(bday):\n",
    "    #Using a 1D array like its a 2D array\n",
    "    #Bc its a list of lists, we can go through each row, but we are only worried about month and day\n",
    "    for i in range(len(bday)):\n",
    "        for j in range(len(bday)):\n",
    "            if (bday[i][1] != bday[j][1] and bday[i][2] != bday[j][2]):\n",
    "                return True\n",
    "            return False\n",
    "\n",
    "\n",
    "\n",
    "\n",
    "                  "
   ]
  },
  {
   "cell_type": "code",
   "execution_count": 460,
   "id": "0f101cf4",
   "metadata": {},
   "outputs": [
    {
     "data": {
      "text/plain": [
       "False"
      ]
     },
     "execution_count": 460,
     "metadata": {},
     "output_type": "execute_result"
    }
   ],
   "source": [
    "birthdayychecker(geminis)"
   ]
  },
  {
   "cell_type": "code",
   "execution_count": 448,
   "id": "cff4b8ff",
   "metadata": {},
   "outputs": [],
   "source": [
    "    \n",
    "bday = [('Kanye West', 'June',8),\n",
    "            ('Johhny Depp','June',9),\n",
    "            ('Tyler Avery','June',13),\n",
    "            ('Tupac Shakur','June',16),\n",
    "            ('Chris Evans', 'June', 13)]\n",
    "    \n",
    "def birthdayychecker(bday):\n",
    "    #Using a 1D array like its a 2D array\n",
    "    #Bc its a list of lists, we can go through each row, but we are only worried about month and day\n",
    "    for i in range(len(bday)):\n",
    "        for j in range(len(bday)):\n",
    "            if bday[i][1] == bday[j][1] and bday[i][2] == bday[j][2]:\n",
    "                return True\n",
    "            return False\n",
    "\n",
    "\n",
    "\n",
    "\n",
    "                  "
   ]
  },
  {
   "cell_type": "code",
   "execution_count": 407,
   "id": "fd23f719",
   "metadata": {},
   "outputs": [
    {
     "data": {
      "text/plain": [
       "True"
      ]
     },
     "execution_count": 407,
     "metadata": {},
     "output_type": "execute_result"
    }
   ],
   "source": [
    "birthdayychecker(bday)"
   ]
  },
  {
   "cell_type": "code",
   "execution_count": null,
   "id": "9f938c5a",
   "metadata": {},
   "outputs": [],
   "source": []
  },
  {
   "cell_type": "markdown",
   "id": "d9e5baa3",
   "metadata": {},
   "source": [
    "### Problem 5"
   ]
  },
  {
   "cell_type": "code",
   "execution_count": 286,
   "id": "00356d85",
   "metadata": {},
   "outputs": [],
   "source": [
    "#For starters, we want our string to be a list.\n",
    "l = \"Supercalifragilisticexpialidocious\"\n",
    "str2 = 'i'\n",
    "def strparse(str1,str2):\n",
    "    return_string = \"\"\n",
    "    remove_token = ''\n",
    "    for i in str1:\n",
    "        if i == str2:\n",
    "            i = remove_token\n",
    "        return_string+=i\n",
    "    print(return_string)\n"
   ]
  },
  {
   "cell_type": "code",
   "execution_count": 287,
   "id": "4c23e06e",
   "metadata": {},
   "outputs": [
    {
     "name": "stdout",
     "output_type": "stream",
     "text": [
      "Supercalfraglstcexpaldocous\n"
     ]
    }
   ],
   "source": [
    "strparse(l,token)"
   ]
  },
  {
   "cell_type": "code",
   "execution_count": 371,
   "id": "017cfd61",
   "metadata": {},
   "outputs": [],
   "source": [
    "l = [\"data\",\"3401\",\"introduction\", \"to\", \"python\",\"for\",\"data\",\"science\"]\n",
    "str2 = [\"data\"]\n",
    "def strparse_bonus(str1,str2):\n",
    "    return_string = \"\"\n",
    "\n",
    "    for word in list(str1):\n",
    "        if word in list(str2):\n",
    "            str1.remove(word)\n",
    "    return str1\n",
    "\n",
    "        \n"
   ]
  },
  {
   "cell_type": "code",
   "execution_count": 370,
   "id": "d36b781a",
   "metadata": {},
   "outputs": [
    {
     "data": {
      "text/plain": [
       "['3401', 'introduction', 'to', 'python', 'for', 'science']"
      ]
     },
     "execution_count": 370,
     "metadata": {},
     "output_type": "execute_result"
    }
   ],
   "source": [
    "strparse_bonus(l,str2)"
   ]
  },
  {
   "cell_type": "code",
   "execution_count": 318,
   "id": "f3dd82c2",
   "metadata": {},
   "outputs": [
    {
     "name": "stdout",
     "output_type": "stream",
     "text": [
      "\n"
     ]
    }
   ],
   "source": []
  },
  {
   "cell_type": "code",
   "execution_count": null,
   "id": "0653b0be",
   "metadata": {},
   "outputs": [],
   "source": []
  },
  {
   "cell_type": "code",
   "execution_count": null,
   "id": "a2ad194e",
   "metadata": {},
   "outputs": [],
   "source": []
  }
 ],
 "metadata": {
  "kernelspec": {
   "display_name": "Python 3 (ipykernel)",
   "language": "python",
   "name": "python3"
  },
  "language_info": {
   "codemirror_mode": {
    "name": "ipython",
    "version": 3
   },
   "file_extension": ".py",
   "mimetype": "text/x-python",
   "name": "python",
   "nbconvert_exporter": "python",
   "pygments_lexer": "ipython3",
   "version": "3.10.6"
  }
 },
 "nbformat": 4,
 "nbformat_minor": 5
}
