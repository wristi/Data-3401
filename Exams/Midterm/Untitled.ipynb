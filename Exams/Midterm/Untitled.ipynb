{
 "cells": [
  {
   "cell_type": "markdown",
   "id": "2305b501",
   "metadata": {},
   "source": [
    "## Midterm Exam #1\n",
    "    tyler avery 1001734381"
   ]
  },
  {
   "cell_type": "markdown",
   "id": "c3b7b237",
   "metadata": {},
   "source": [
    "## Exercise 1"
   ]
  },
  {
   "cell_type": "code",
   "execution_count": 5,
   "id": "2971d04f",
   "metadata": {},
   "outputs": [],
   "source": [
    "def returnprod():\n",
    "    print(\"\\tThis is a calculator that gives you the Product of three numbers,\\n\\tbelow you will be asked to input whichever numbers you'd like.\\n\\tIntegers or Float values only!\\n\")\n",
    "    n_1 = float(input(\"Please enter your first number: \"))\n",
    "    n_2 = float(input(\"Please enter your second number: \"))\n",
    "    n_3 = float(input('Please enter your third number: '))\n",
    "    return n_1*n_2 *n_3\n"
   ]
  },
  {
   "cell_type": "code",
   "execution_count": 6,
   "id": "0be8522a",
   "metadata": {},
   "outputs": [
    {
     "name": "stdout",
     "output_type": "stream",
     "text": [
      "\tThis is a calculator that gives you the Product of three numbers,\n",
      "\tbelow you will be asked to input whichever numbers you'd like.\n",
      "\tIntegers or Float values only!\n",
      "\n",
      "Please enter your first number: 1\n",
      "Please enter your second number: 45\n",
      "Please enter your third number: 2\n"
     ]
    },
    {
     "data": {
      "text/plain": [
       "90.0"
      ]
     },
     "execution_count": 6,
     "metadata": {},
     "output_type": "execute_result"
    }
   ],
   "source": [
    "returnprod()"
   ]
  },
  {
   "cell_type": "code",
   "execution_count": 7,
   "id": "262566e1",
   "metadata": {},
   "outputs": [
    {
     "name": "stdout",
     "output_type": "stream",
     "text": [
      "\tThis is a calculator that gives you the Product of three numbers,\n",
      "\tbelow you will be asked to input whichever numbers you'd like.\n",
      "\tIntegers or Float values only!\n",
      "\n",
      "Please enter your first number: Steve\n"
     ]
    },
    {
     "ename": "ValueError",
     "evalue": "could not convert string to float: 'Steve'",
     "output_type": "error",
     "traceback": [
      "\u001b[0;31m---------------------------------------------------------------------------\u001b[0m",
      "\u001b[0;31mValueError\u001b[0m                                Traceback (most recent call last)",
      "Input \u001b[0;32mIn [7]\u001b[0m, in \u001b[0;36m<cell line: 1>\u001b[0;34m()\u001b[0m\n\u001b[0;32m----> 1\u001b[0m \u001b[43mreturnprod\u001b[49m\u001b[43m(\u001b[49m\u001b[43m)\u001b[49m\n",
      "Input \u001b[0;32mIn [5]\u001b[0m, in \u001b[0;36mreturnprod\u001b[0;34m()\u001b[0m\n\u001b[1;32m      1\u001b[0m \u001b[38;5;28;01mdef\u001b[39;00m \u001b[38;5;21mreturnprod\u001b[39m():\n\u001b[1;32m      2\u001b[0m     \u001b[38;5;28mprint\u001b[39m(\u001b[38;5;124m\"\u001b[39m\u001b[38;5;130;01m\\t\u001b[39;00m\u001b[38;5;124mThis is a calculator that gives you the Product of three numbers,\u001b[39m\u001b[38;5;130;01m\\n\u001b[39;00m\u001b[38;5;130;01m\\t\u001b[39;00m\u001b[38;5;124mbelow you will be asked to input whichever numbers you\u001b[39m\u001b[38;5;124m'\u001b[39m\u001b[38;5;124md like.\u001b[39m\u001b[38;5;130;01m\\n\u001b[39;00m\u001b[38;5;130;01m\\t\u001b[39;00m\u001b[38;5;124mIntegers or Float values only!\u001b[39m\u001b[38;5;130;01m\\n\u001b[39;00m\u001b[38;5;124m\"\u001b[39m)\n\u001b[0;32m----> 3\u001b[0m     n_1 \u001b[38;5;241m=\u001b[39m \u001b[38;5;28;43mfloat\u001b[39;49m\u001b[43m(\u001b[49m\u001b[38;5;28;43minput\u001b[39;49m\u001b[43m(\u001b[49m\u001b[38;5;124;43m\"\u001b[39;49m\u001b[38;5;124;43mPlease enter your first number: \u001b[39;49m\u001b[38;5;124;43m\"\u001b[39;49m\u001b[43m)\u001b[49m\u001b[43m)\u001b[49m\n\u001b[1;32m      4\u001b[0m     n_2 \u001b[38;5;241m=\u001b[39m \u001b[38;5;28mfloat\u001b[39m(\u001b[38;5;28minput\u001b[39m(\u001b[38;5;124m\"\u001b[39m\u001b[38;5;124mPlease enter your second number: \u001b[39m\u001b[38;5;124m\"\u001b[39m))\n\u001b[1;32m      5\u001b[0m     n_3 \u001b[38;5;241m=\u001b[39m \u001b[38;5;28mfloat\u001b[39m(\u001b[38;5;28minput\u001b[39m(\u001b[38;5;124m'\u001b[39m\u001b[38;5;124mPlease enter your third number: \u001b[39m\u001b[38;5;124m'\u001b[39m))\n",
      "\u001b[0;31mValueError\u001b[0m: could not convert string to float: 'Steve'"
     ]
    }
   ],
   "source": [
    "returnprod()"
   ]
  },
  {
   "cell_type": "markdown",
   "id": "66e59dfc",
   "metadata": {},
   "source": [
    "### Problem 2"
   ]
  },
  {
   "cell_type": "code",
   "execution_count": 20,
   "id": "dba3141b",
   "metadata": {},
   "outputs": [],
   "source": [
    "\n",
    "def a(n):\n",
    "    if not isinstance(n,int):\n",
    "        print(\"Error, please give me an integer.\")\n",
    "    \n",
    "    sequence = [1,2]\n",
    "    for k in range(2,n+1):\n",
    "        sequence.append(sequence[-1]-sequence[-2])**2)/3)\n",
    "    return sequence"
   ]
  },
  {
   "cell_type": "code",
   "execution_count": 22,
   "id": "5d0e33c1",
   "metadata": {},
   "outputs": [
    {
     "data": {
      "text/plain": [
       "[1,\n",
       " 2,\n",
       " 0.3333333333333333,\n",
       " 0.925925925925926,\n",
       " 0.11705532693187022,\n",
       " 0.21809054863900088]"
      ]
     },
     "execution_count": 22,
     "metadata": {},
     "output_type": "execute_result"
    }
   ],
   "source": [
    "a(5)"
   ]
  },
  {
   "cell_type": "code",
   "execution_count": 77,
   "id": "76d32622",
   "metadata": {},
   "outputs": [],
   "source": [
    "# Write your function here\n",
    "def recursive(n):\n",
    "    if not isinstance(n,int):\n",
    "        print(\"Error, please give me an integer.\")\n",
    "    \n",
    "    sequence = [1,3]\n",
    "    re = (((sequence[-1] - sequence[-2])**2)/3)\n",
    "    for k in range(2,n+1):\n",
    "        sequence.append(re)\n",
    "    return sequence"
   ]
  },
  {
   "cell_type": "code",
   "execution_count": 74,
   "id": "9ce9caf9",
   "metadata": {},
   "outputs": [
    {
     "data": {
      "text/plain": [
       "[1, 3, 1.3333333333333333, 1.3333333333333333, 1.3333333333333333]"
      ]
     },
     "execution_count": 74,
     "metadata": {},
     "output_type": "execute_result"
    }
   ],
   "source": [
    "recursive(4)"
   ]
  },
  {
   "cell_type": "code",
   "execution_count": 87,
   "id": "315e30c9",
   "metadata": {},
   "outputs": [],
   "source": [
    "# Write your function here\n",
    "def recursive(n):\n",
    " \n",
    "    sequence = [1,3]\n",
    "    for k in range(2,n+1):\n",
    "        sequence.append(((sequence[-1]-sequence[-2])**2)/3)\n",
    "    return sequence"
   ]
  },
  {
   "cell_type": "code",
   "execution_count": 88,
   "id": "12ec1e33",
   "metadata": {},
   "outputs": [
    {
     "data": {
      "text/plain": [
       "[1,\n",
       " 3,\n",
       " 1.3333333333333333,\n",
       " 0.925925925925926,\n",
       " 0.0553269318701417,\n",
       " 0.25264753615031454]"
      ]
     },
     "execution_count": 88,
     "metadata": {},
     "output_type": "execute_result"
    }
   ],
   "source": [
    "recursive(5)"
   ]
  },
  {
   "cell_type": "markdown",
   "id": "62d135ed",
   "metadata": {},
   "source": [
    "### Problem 3"
   ]
  },
  {
   "cell_type": "code",
   "execution_count": null,
   "id": "4c078364",
   "metadata": {},
   "outputs": [],
   "source": []
  },
  {
   "cell_type": "markdown",
   "id": "098e7eb0",
   "metadata": {},
   "source": [
    "### Problem 4"
   ]
  },
  {
   "cell_type": "code",
   "execution_count": 380,
   "id": "a14e441d",
   "metadata": {},
   "outputs": [],
   "source": [
    "    \n",
    "marvel = [('Thor', 'August',10),\n",
    "            ('Phil Coulson','July',8),\n",
    "            ('T\\'Challa','November',29),\n",
    "            ('Peter Parker','August',10),\n",
    "            ('Tony Stark', 'March', 14)]\n",
    "    \n",
    "def birthdayychecker(bday):\n",
    "    #Using a 1D array like its a 2D array\n",
    "    #Bc its a list of lists, we can go through each row, but we are only worried about month and day\n",
    "    for i in range(len(bday)):\n",
    "        for j in range(i+1, len(bday)):\n",
    "            if bday[i][1] == bday[j][1] and bday[i][2] == bday[j][2]:\n",
    "                return True\n",
    "            return False\n",
    "\n",
    "                  \n",
    "            \n",
    "    "
   ]
  },
  {
   "cell_type": "code",
   "execution_count": 381,
   "id": "3d809856",
   "metadata": {},
   "outputs": [
    {
     "data": {
      "text/plain": [
       "False"
      ]
     },
     "execution_count": 381,
     "metadata": {},
     "output_type": "execute_result"
    }
   ],
   "source": [
    "birthdayychecker(marvel)"
   ]
  },
  {
   "cell_type": "code",
   "execution_count": 372,
   "id": "c730e107",
   "metadata": {},
   "outputs": [],
   "source": [
    "    \n",
    "geminis = [('Kanye West', 'June',8),\n",
    "            ('Johhny Depp','June',9),\n",
    "            ('Genghis Khan','May',31),\n",
    "            ('Tupac Shakur','June',16),\n",
    "            ('Ice Cube', 'June', 15)]\n",
    "    \n",
    "def birthdayychecker(bday):\n",
    "    #Using a 1D array like its a 2D array\n",
    "    #Bc its a list of lists, we can go through each row, but we are only worried about month and day\n",
    "    for i in range(len(bday)):\n",
    "        for j in range(i+1, len(bday)):\n",
    "            if bday[i][1] == bday[j][1] and bday[i][2] == bday[j][2]:\n",
    "                return True\n",
    "            return False\n",
    "\n",
    "\n",
    "\n",
    "\n",
    "                  "
   ]
  },
  {
   "cell_type": "code",
   "execution_count": 373,
   "id": "0f101cf4",
   "metadata": {},
   "outputs": [
    {
     "data": {
      "text/plain": [
       "False"
      ]
     },
     "execution_count": 373,
     "metadata": {},
     "output_type": "execute_result"
    }
   ],
   "source": [
    "birthdayychecker(geminis)"
   ]
  },
  {
   "cell_type": "code",
   "execution_count": 376,
   "id": "4c90df5c",
   "metadata": {},
   "outputs": [],
   "source": [
    "    \n",
    "bday = [('Kanye West', 'June',8),\n",
    "            ('Johhny Depp','June',9),\n",
    "            ('Tyler Avery','June',13),\n",
    "            ('Tupac Shakur','June',16),\n",
    "            ('Chris Evans', 'June', 13)]\n",
    "    \n",
    "def birthdayychecker(bday):\n",
    "    #Using a 1D array like its a 2D array\n",
    "    #Bc its a list of lists, we can go through each row, but we are only worried about month and day\n",
    "    for i in range(len(bday)):\n",
    "        for j in range(i+1, len(bday)):\n",
    "            if bday[i][1] == bday[j][1] and bday[i][2] == bday[j][2]:\n",
    "                return True\n",
    "            return False\n",
    "\n",
    "\n",
    "\n",
    "\n",
    "                  "
   ]
  },
  {
   "cell_type": "code",
   "execution_count": 377,
   "id": "3410efea",
   "metadata": {},
   "outputs": [
    {
     "data": {
      "text/plain": [
       "False"
      ]
     },
     "execution_count": 377,
     "metadata": {},
     "output_type": "execute_result"
    }
   ],
   "source": [
    "birthdayychecker(bday)"
   ]
  },
  {
   "cell_type": "code",
   "execution_count": null,
   "id": "6bbd0cd9",
   "metadata": {},
   "outputs": [],
   "source": []
  },
  {
   "cell_type": "markdown",
   "id": "d9e5baa3",
   "metadata": {},
   "source": [
    "### Problem 5"
   ]
  },
  {
   "cell_type": "code",
   "execution_count": 286,
   "id": "00356d85",
   "metadata": {},
   "outputs": [],
   "source": [
    "#For starters, we want our string to be a list.\n",
    "l = \"Supercalifragilisticexpialidocious\"\n",
    "str2 = 'i'\n",
    "def strparse(str1,str2):\n",
    "    return_string = \"\"\n",
    "    remove_token = ''\n",
    "    for i in str1:\n",
    "        if i == str2:\n",
    "            i = remove_token\n",
    "        return_string+=i\n",
    "    print(return_string)\n"
   ]
  },
  {
   "cell_type": "code",
   "execution_count": 287,
   "id": "4c23e06e",
   "metadata": {},
   "outputs": [
    {
     "name": "stdout",
     "output_type": "stream",
     "text": [
      "Supercalfraglstcexpaldocous\n"
     ]
    }
   ],
   "source": [
    "strparse(l,token)"
   ]
  },
  {
   "cell_type": "code",
   "execution_count": 371,
   "id": "017cfd61",
   "metadata": {},
   "outputs": [],
   "source": [
    "l = [\"data\",\"3401\",\"introduction\", \"to\", \"python\",\"for\",\"data\",\"science\"]\n",
    "str2 = [\"data\"]\n",
    "def strparse_bonus(str1,str2):\n",
    "    return_string = \"\"\n",
    "\n",
    "    for word in list(str1):\n",
    "        if word in list(str2):\n",
    "            str1.remove(word)\n",
    "    return str1\n",
    "\n",
    "        \n"
   ]
  },
  {
   "cell_type": "code",
   "execution_count": 370,
   "id": "d36b781a",
   "metadata": {},
   "outputs": [
    {
     "data": {
      "text/plain": [
       "['3401', 'introduction', 'to', 'python', 'for', 'science']"
      ]
     },
     "execution_count": 370,
     "metadata": {},
     "output_type": "execute_result"
    }
   ],
   "source": [
    "strparse_bonus(l,str2)"
   ]
  },
  {
   "cell_type": "code",
   "execution_count": 318,
   "id": "f3dd82c2",
   "metadata": {},
   "outputs": [
    {
     "name": "stdout",
     "output_type": "stream",
     "text": [
      "\n"
     ]
    }
   ],
   "source": []
  },
  {
   "cell_type": "code",
   "execution_count": null,
   "id": "0653b0be",
   "metadata": {},
   "outputs": [],
   "source": []
  },
  {
   "cell_type": "code",
   "execution_count": null,
   "id": "a2ad194e",
   "metadata": {},
   "outputs": [],
   "source": []
  }
 ],
 "metadata": {
  "kernelspec": {
   "display_name": "Python 3 (ipykernel)",
   "language": "python",
   "name": "python3"
  },
  "language_info": {
   "codemirror_mode": {
    "name": "ipython",
    "version": 3
   },
   "file_extension": ".py",
   "mimetype": "text/x-python",
   "name": "python",
   "nbconvert_exporter": "python",
   "pygments_lexer": "ipython3",
   "version": "3.10.6"
  }
 },
 "nbformat": 4,
 "nbformat_minor": 5
}
